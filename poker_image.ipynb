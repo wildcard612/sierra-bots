{
 "cells": [
  {
   "cell_type": "code",
   "execution_count": 1,
   "id": "0b04e4de-c00b-43bc-906a-6cf0ae82eeda",
   "metadata": {},
   "outputs": [],
   "source": [
    "import cv2\n",
    "import numpy as np\n",
    "import pytesseract"
   ]
  },
  {
   "cell_type": "code",
   "execution_count": 8,
   "id": "824cf7aa-a03a-42d6-ae90-a891931a96a3",
   "metadata": {},
   "outputs": [],
   "source": [
    "def load_image(file_path):\n",
    "    image = cv2.imread(file_path)\n",
    "    return cv2.cvtColor(image, cv2.COLOR_BGR2RGB)"
   ]
  },
  {
   "cell_type": "code",
   "execution_count": 9,
   "id": "69cfb0d4-ff02-4452-90a8-e406c53a836a",
   "metadata": {},
   "outputs": [],
   "source": [
    "def preprocess_image(image):\n",
    "    gray = cv2.cvtColor(image, cv2.COLOR_RGB2GRAY)\n",
    "    clahe = cv2.createCLAHE(clipLimit=2.0, tileGridSize=(8,8))\n",
    "    gray = clahe.apply(gray)\n",
    "    blurred = cv2.GaussianBlur(gray, (5, 5), 0)\n",
    "    return blurred"
   ]
  },
  {
   "cell_type": "code",
   "execution_count": 3,
   "id": "83a789ed-c7c5-4328-b0d2-a7d85da34784",
   "metadata": {},
   "outputs": [],
   "source": [
    "def process_image(image):\n",
    "    # Convert the image to grayscale\n",
    "    gray = cv2.cvtColor(image, cv2.COLOR_BGR2GRAY)\n",
    "    \n",
    "    # Apply Gaussian blur to reduce noise\n",
    "    blurred = cv2.GaussianBlur(gray, (5, 5), 0)\n",
    "    \n",
    "    # Detect edges using Canny\n",
    "    edges = cv2.Canny(blurred, 50, 150)\n",
    "    \n",
    "    # Find contours in the image\n",
    "    contours, _ = cv2.findContours(edges, cv2.RETR_EXTERNAL, cv2.CHAIN_APPROX_SIMPLE)\n",
    "    \n",
    "    card_images = []\n",
    "    \n",
    "    for contour in contours:\n",
    "        # Approximate contour to polygon\n",
    "        epsilon = 0.02 * cv2.arcLength(contour, True)\n",
    "        approx = cv2.approxPolyDP(contour, epsilon, True)\n",
    "        \n",
    "        # If the contour has four vertices, assume it's a rectangle (card)\n",
    "        if len(approx) == 4:\n",
    "            x, y, w, h = cv2.boundingRect(approx)\n",
    "            # Check aspect ratio to filter out non-card contours\n",
    "            if 0.5 <= w/h <= 1.5:\n",
    "                card_image = image[y:y+h, x:x+w]\n",
    "                card_images.append(card_image)\n",
    "    \n",
    "    return card_images"
   ]
  },
  {
   "cell_type": "code",
   "execution_count": 20,
   "id": "5b1d5aa3-e4de-4b71-936c-f0934578d982",
   "metadata": {},
   "outputs": [],
   "source": [
    "def recognize_cards(image):\n",
    "    if len(image.shape) == 3:  # Jeśli obraz jest kolorowy\n",
    "        gray = cv2.cvtColor(image, cv2.COLOR_BGR2GRAY)\n",
    "    else:  # Jeśli obraz jest już w skali szarości\n",
    "        gray = image\n",
    "\n",
    "    _, thresh = cv2.threshold(gray, 127, 255, cv2.THRESH_BINARY_INV + cv2.THRESH_OTSU)\n",
    "    \n",
    "    # Zwiększ kontrast\n",
    "    kernel = np.ones((2,2),np.uint8)\n",
    "    thresh = cv2.dilate(thresh, kernel, iterations=1)\n",
    "    \n",
    "    # Konfiguracja Tesseract dla pojedynczych znaków\n",
    "    custom_config = r'--oem 3 --psm 10 -c tessedit_char_whitelist=AKQJ1098765432'\n",
    "    text = pytesseract.image_to_string(thresh, config=custom_config)\n",
    "    \n",
    "    # Oczyszczenie wyniku\n",
    "    text = ''.join(c for c in text if c.isalnum())\n",
    "    return text"
   ]
  },
  {
   "cell_type": "code",
   "execution_count": 18,
   "id": "30703309-f9b6-47a3-9870-3668bc84aee3",
   "metadata": {},
   "outputs": [],
   "source": [
    "\n",
    "def main(file_path):\n",
    "    image = load_image(file_path)\n",
    "    preprocessed = preprocess_image(image)\n",
    "    card_images = detect_cards(preprocessed)\n",
    "    \n",
    "    for i, card_image in enumerate(card_images):\n",
    "        card = recognize_cards(card_image)\n",
    "        print(f\"Card {i+1}: {card}\")\n",
    "\n",
    "    # Wyświetl wykryte karty (do debugowania)\n",
    "    for i, card in enumerate(card_images):\n",
    "        cv2.imshow(f\"Card {i+1}\", card)\n",
    "    cv2.waitKey(0)\n",
    "    cv2.destroyAllWindows()"
   ]
  },
  {
   "cell_type": "code",
   "execution_count": 11,
   "id": "6aa9522d-42b8-41a5-b1c3-95366f1ab1e5",
   "metadata": {},
   "outputs": [],
   "source": [
    "def detect_cards(image):\n",
    "    edges = cv2.Canny(image, 50, 150)\n",
    "    contours, _ = cv2.findContours(edges, cv2.RETR_EXTERNAL, cv2.CHAIN_APPROX_SIMPLE)\n",
    "    \n",
    "    card_images = []\n",
    "    for contour in contours:\n",
    "        area = cv2.contourArea(contour)\n",
    "        if area < 1000 or area > 100000:  # Filter out small and large contours\n",
    "            continue\n",
    "        \n",
    "        epsilon = 0.02 * cv2.arcLength(contour, True)\n",
    "        approx = cv2.approxPolyDP(contour, epsilon, True)\n",
    "        \n",
    "        if len(approx) == 4:\n",
    "            pts = np.float32(approx)\n",
    "            rect = cv2.minAreaRect(contour)\n",
    "            box = cv2.boxPoints(rect)\n",
    "            box = np.int0(box)\n",
    "            \n",
    "            width = int(rect[1][0])\n",
    "            height = int(rect[1][1])\n",
    "            \n",
    "            dst_pts = np.array([[0, height-1],\n",
    "                                [0, 0],\n",
    "                                [width-1, 0],\n",
    "                                [width-1, height-1]], dtype=\"float32\")\n",
    "            \n",
    "            M = cv2.getPerspectiveTransform(pts, dst_pts)\n",
    "            warped = cv2.warpPerspective(image, M, (width, height))\n",
    "            \n",
    "            card_images.append(warped)\n",
    "    \n",
    "    return card_images"
   ]
  },
  {
   "cell_type": "code",
   "execution_count": null,
   "id": "56b12ad9-04ab-451d-8714-f284c3b54428",
   "metadata": {},
   "outputs": [
    {
     "name": "stdout",
     "output_type": "stream",
     "text": [
      "Card 1: 2\n",
      "Card 2: 22\n",
      "Card 3: A\n",
      "Card 4: 2\n"
     ]
    }
   ],
   "source": [
    "# Example usage\n",
    "file_path = \"D:\\\\sierra bots\\\\poker test.png\"\n",
    "main(file_path)"
   ]
  },
  {
   "cell_type": "code",
   "execution_count": null,
   "id": "f995f297-2a0a-4bc6-b3dd-83f739ebda36",
   "metadata": {},
   "outputs": [],
   "source": []
  },
  {
   "cell_type": "code",
   "execution_count": null,
   "id": "4f3596db-4fa9-4f09-863c-68470e44e97d",
   "metadata": {},
   "outputs": [],
   "source": []
  }
 ],
 "metadata": {
  "kernelspec": {
   "display_name": "Python 3 (ipykernel)",
   "language": "python",
   "name": "python3"
  },
  "language_info": {
   "codemirror_mode": {
    "name": "ipython",
    "version": 3
   },
   "file_extension": ".py",
   "mimetype": "text/x-python",
   "name": "python",
   "nbconvert_exporter": "python",
   "pygments_lexer": "ipython3",
   "version": "3.11.2"
  }
 },
 "nbformat": 4,
 "nbformat_minor": 5
}
