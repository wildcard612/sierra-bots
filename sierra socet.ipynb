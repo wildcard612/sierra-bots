{
 "cells": [
  {
   "cell_type": "code",
   "execution_count": 35,
   "id": "fc3de3f7-cf13-4229-aaf2-eef8cdcd8c5f",
   "metadata": {},
   "outputs": [],
   "source": [
    "import socket\n",
    "import DTCProtocol_pb2\n",
    "import struct\n",
    "import time\n",
    "import pandas as pd\n",
    "import json"
   ]
  },
  {
   "cell_type": "code",
   "execution_count": 103,
   "id": "26b8fec7-f5a8-4a17-85bf-d6cc9aeb899b",
   "metadata": {},
   "outputs": [],
   "source": [
    "host = 'localhost'\n",
    "port = 11099  # Port z konfiguracji DTC w Sierra Chart\n",
    "\n",
    "# Tworzenie socketu\n",
    "client_socket = socket.socket(socket.AF_INET, socket.SOCK_STREAM)\n",
    "client_socket.connect((host, port))\n",
    "#client_socket.sendall(json.dumps(heartbeat_message).encode('utf-8'))"
   ]
  },
  {
   "cell_type": "code",
   "execution_count": 54,
   "id": "a56b7357-f287-4476-9193-c708f63b5f00",
   "metadata": {},
   "outputs": [],
   "source": [
    "heartbeat_message = {\n",
    "        \"Type\": 3,  # 3 is the message type for Heartbeat\n",
    "    }\n",
    "heartbeat_message = json.dumps(heartbeat_message)\n",
    "heartbeat_message = heartbeat_message.encode('utf-8')"
   ]
  },
  {
   "cell_type": "code",
   "execution_count": 108,
   "id": "f28d09f8-5c02-47d4-a640-e3f90ea3d8d3",
   "metadata": {},
   "outputs": [],
   "source": [
    "client_socket.sendall(heartbeat_message)"
   ]
  },
  {
   "cell_type": "code",
   "execution_count": 45,
   "id": "84e38a67-3652-48d8-8fb1-3ac5ba62511c",
   "metadata": {},
   "outputs": [],
   "source": [
    "logon_request = {\n",
    "    \"Type\": \"LogonRequest\",\n",
    "    \"ProtocolVersion\": 8,  # Latest version of DTC\n",
    "    \"HeartbeatIntervalInSeconds\": 10,\n",
    "    \"ClientName\": \"YourAppName\"\n",
    "}\n",
    "\n",
    "# Convert the dictionary to JSON\n",
    "json_logon_request = json.dumps(logon_request)"
   ]
  },
  {
   "cell_type": "code",
   "execution_count": 49,
   "id": "6a5fde3a-312c-4739-9e61-e15b5f82efe4",
   "metadata": {},
   "outputs": [],
   "source": [
    "client_socket.sendall(json_logon_request.encode('utf-8'))"
   ]
  },
  {
   "cell_type": "code",
   "execution_count": null,
   "id": "8da906ad-31d7-41c6-9b98-6402aab6042b",
   "metadata": {},
   "outputs": [],
   "source": []
  }
 ],
 "metadata": {
  "kernelspec": {
   "display_name": "Python 3 (ipykernel)",
   "language": "python",
   "name": "python3"
  },
  "language_info": {
   "codemirror_mode": {
    "name": "ipython",
    "version": 3
   },
   "file_extension": ".py",
   "mimetype": "text/x-python",
   "name": "python",
   "nbconvert_exporter": "python",
   "pygments_lexer": "ipython3",
   "version": "3.11.2"
  }
 },
 "nbformat": 4,
 "nbformat_minor": 5
}
