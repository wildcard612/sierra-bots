{
 "cells": [
  {
   "cell_type": "code",
   "execution_count": 3,
   "id": "33e7be84-a7c8-4569-ac7d-3f6c1acdf90a",
   "metadata": {},
   "outputs": [],
   "source": [
    "import os\n",
    "from pdf2docx import Converter"
   ]
  },
  {
   "cell_type": "code",
   "execution_count": 5,
   "id": "16d27182-ff3e-4a1c-9dd1-c2903d0b5944",
   "metadata": {},
   "outputs": [],
   "source": [
    "pdf = \"C:\\\\Users\\\\i9\\\\Downloads\\\\Joob.pdf\"\n",
    "doc = \"D:\\\\pdf convert\\\\test2.docx\""
   ]
  },
  {
   "cell_type": "code",
   "execution_count": 6,
   "id": "b761c3a3-ecce-4672-a4e3-feb3020f5306",
   "metadata": {},
   "outputs": [],
   "source": [
    "conv = Converter(pdf)"
   ]
  },
  {
   "cell_type": "code",
   "execution_count": 7,
   "id": "c1e3052d-37f8-4c2a-901b-57b6ddb678a8",
   "metadata": {},
   "outputs": [
    {
     "name": "stderr",
     "output_type": "stream",
     "text": [
      "[INFO] Start to convert C:\\Users\\i9\\Downloads\\Joob.pdf\n",
      "[INFO] \u001b[1;36m[1/4] Opening document...\u001b[0m\n",
      "[INFO] \u001b[1;36m[2/4] Analyzing document...\u001b[0m\n",
      "[INFO] \u001b[1;36m[3/4] Parsing pages...\u001b[0m\n",
      "[INFO] (1/50) Page 1\n",
      "[INFO] (2/50) Page 2\n",
      "[INFO] (3/50) Page 3\n",
      "[INFO] (4/50) Page 4\n",
      "[INFO] (5/50) Page 5\n",
      "[INFO] (6/50) Page 6\n",
      "[INFO] (7/50) Page 7\n",
      "[INFO] (8/50) Page 8\n",
      "[INFO] (9/50) Page 9\n",
      "[INFO] (10/50) Page 10\n",
      "[INFO] (11/50) Page 11\n",
      "[INFO] (12/50) Page 12\n",
      "[INFO] (13/50) Page 13\n",
      "[INFO] (14/50) Page 14\n",
      "[INFO] (15/50) Page 15\n",
      "[INFO] (16/50) Page 16\n",
      "[INFO] (17/50) Page 17\n",
      "[INFO] (18/50) Page 18\n",
      "[INFO] (19/50) Page 19\n",
      "[INFO] (20/50) Page 20\n",
      "[INFO] (21/50) Page 21\n",
      "[INFO] (22/50) Page 22\n",
      "[INFO] (23/50) Page 23\n",
      "[INFO] (24/50) Page 24\n",
      "[INFO] (25/50) Page 25\n",
      "[INFO] (26/50) Page 26\n",
      "[INFO] (27/50) Page 27\n",
      "[INFO] (28/50) Page 28\n",
      "[INFO] (29/50) Page 29\n",
      "[INFO] (30/50) Page 30\n",
      "[INFO] (31/50) Page 31\n",
      "[INFO] (32/50) Page 32\n",
      "[INFO] (33/50) Page 33\n",
      "[INFO] (34/50) Page 34\n",
      "[INFO] (35/50) Page 35\n",
      "[INFO] (36/50) Page 36\n",
      "[INFO] (37/50) Page 37\n",
      "[INFO] (38/50) Page 38\n",
      "[INFO] (39/50) Page 39\n",
      "[INFO] (40/50) Page 40\n",
      "[INFO] (41/50) Page 41\n",
      "[INFO] (42/50) Page 42\n",
      "[INFO] (43/50) Page 43\n",
      "[INFO] (44/50) Page 44\n",
      "[INFO] (45/50) Page 45\n",
      "[INFO] (46/50) Page 46\n",
      "[INFO] (47/50) Page 47\n",
      "[INFO] (48/50) Page 48\n",
      "[INFO] (49/50) Page 49\n",
      "[INFO] (50/50) Page 50\n",
      "[INFO] \u001b[1;36m[4/4] Creating pages...\u001b[0m\n",
      "[INFO] (1/50) Page 1\n",
      "[INFO] (2/50) Page 2\n",
      "[INFO] (3/50) Page 3\n",
      "[INFO] (4/50) Page 4\n",
      "[INFO] (5/50) Page 5\n",
      "[INFO] (6/50) Page 6\n",
      "[INFO] (7/50) Page 7\n",
      "[INFO] (8/50) Page 8\n",
      "[INFO] (9/50) Page 9\n",
      "[INFO] (10/50) Page 10\n",
      "[INFO] (11/50) Page 11\n",
      "[INFO] (12/50) Page 12\n",
      "[INFO] (13/50) Page 13\n",
      "[INFO] (14/50) Page 14\n",
      "[INFO] (15/50) Page 15\n",
      "[INFO] (16/50) Page 16\n",
      "[INFO] (17/50) Page 17\n",
      "[INFO] (18/50) Page 18\n",
      "[INFO] (19/50) Page 19\n",
      "[INFO] (20/50) Page 20\n",
      "[INFO] (21/50) Page 21\n",
      "[INFO] (22/50) Page 22\n",
      "[INFO] (23/50) Page 23\n",
      "[INFO] (24/50) Page 24\n",
      "[INFO] (25/50) Page 25\n",
      "[INFO] (26/50) Page 26\n",
      "[INFO] (27/50) Page 27\n",
      "[INFO] (28/50) Page 28\n",
      "[INFO] (29/50) Page 29\n",
      "[INFO] (30/50) Page 30\n",
      "[INFO] (31/50) Page 31\n",
      "[INFO] (32/50) Page 32\n",
      "[INFO] (33/50) Page 33\n",
      "[INFO] (34/50) Page 34\n",
      "[INFO] (35/50) Page 35\n",
      "[INFO] (36/50) Page 36\n",
      "[INFO] (37/50) Page 37\n",
      "[INFO] (38/50) Page 38\n",
      "[INFO] (39/50) Page 39\n",
      "[INFO] (40/50) Page 40\n",
      "[INFO] (41/50) Page 41\n",
      "[INFO] (42/50) Page 42\n",
      "[INFO] (43/50) Page 43\n",
      "[INFO] (44/50) Page 44\n",
      "[INFO] (45/50) Page 45\n",
      "[INFO] (46/50) Page 46\n",
      "[INFO] (47/50) Page 47\n",
      "[INFO] (48/50) Page 48\n",
      "[INFO] (49/50) Page 49\n",
      "[INFO] (50/50) Page 50\n",
      "[INFO] Terminated in 3.56s.\n"
     ]
    }
   ],
   "source": [
    "conv.convert(doc)"
   ]
  },
  {
   "cell_type": "code",
   "execution_count": null,
   "id": "815a99ea-6cca-4f16-8906-9e2f841dc160",
   "metadata": {},
   "outputs": [],
   "source": []
  }
 ],
 "metadata": {
  "kernelspec": {
   "display_name": "Python 3 (ipykernel)",
   "language": "python",
   "name": "python3"
  },
  "language_info": {
   "codemirror_mode": {
    "name": "ipython",
    "version": 3
   },
   "file_extension": ".py",
   "mimetype": "text/x-python",
   "name": "python",
   "nbconvert_exporter": "python",
   "pygments_lexer": "ipython3",
   "version": "3.11.2"
  }
 },
 "nbformat": 4,
 "nbformat_minor": 5
}
