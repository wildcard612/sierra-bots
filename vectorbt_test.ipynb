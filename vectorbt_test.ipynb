{
 "cells": [
  {
   "cell_type": "code",
   "execution_count": 1,
   "id": "8f6c5eee-8bd8-4bfa-b462-450d4b2aea77",
   "metadata": {},
   "outputs": [],
   "source": [
    "import pandas as pd\n",
    "import vectorbt as vbt\n",
    "import numpy as np\n",
    "from datetime import datetime\n",
    "import plotly.io as pio"
   ]
  },
  {
   "cell_type": "code",
   "execution_count": 2,
   "id": "bc9a65e7-862a-4e4c-89cc-d84bbb0329ca",
   "metadata": {},
   "outputs": [],
   "source": [
    "pio.renderers.default = 'browser'"
   ]
  },
  {
   "cell_type": "code",
   "execution_count": 94,
   "id": "3b9ddba4-b80c-4ee1-b161-9b1aca992b17",
   "metadata": {},
   "outputs": [],
   "source": [
    "#df = pd.read_csv(\"D:\\SierraChart\\Data\\ESU4.CME [CBV][M]  1500 Volume #4_GraphData_july.txt\")\n",
    "#df2 = pd.read_csv(\"D:\\SierraChart\\Data\\ESU4.CME [CBV][M]  2.75 Range #3_GraphData_july.txt\")\n",
    "#df3 = pd.read_csv(\"D:\\SierraChart\\Data\\ESU4.CME [CBV][M]  15 Sec  #2_GraphData_july.txt\")\n",
    "#df4 = pd.read_csv(\"D:\\SierraChart\\Data\\ESU4.CME [CBV][M]  3 Min  #1_GraphData_july.txt\")\n",
    "#df = pd.read_csv(\"D:\\SierraChart\\Data\\ESM24_FUT_CME [CBV][M]  1500 Volume #4_GraphData.txt\")\n",
    "df = pd.read_csv(\"D:\\SierraChart\\Data\\ESZ24_FUT_CME [CBV][M]  1500 Volume #4_GraphData_september.txt\")"
   ]
  },
  {
   "cell_type": "code",
   "execution_count": null,
   "id": "ae5df8aa-3ca1-4783-b563-0a3941b98ac9",
   "metadata": {},
   "outputs": [],
   "source": []
  },
  {
   "cell_type": "code",
   "execution_count": 95,
   "id": "21b1f7e5-490c-496b-98bc-7d49aeb1e8e2",
   "metadata": {},
   "outputs": [],
   "source": [
    "df.columns = df.columns.str.strip()"
   ]
  },
  {
   "cell_type": "code",
   "execution_count": 99,
   "id": "83d079d6-c461-45aa-9d66-e4937e066472",
   "metadata": {},
   "outputs": [
    {
     "data": {
      "text/html": [
       "<div>\n",
       "<style scoped>\n",
       "    .dataframe tbody tr th:only-of-type {\n",
       "        vertical-align: middle;\n",
       "    }\n",
       "\n",
       "    .dataframe tbody tr th {\n",
       "        vertical-align: top;\n",
       "    }\n",
       "\n",
       "    .dataframe thead th {\n",
       "        text-align: right;\n",
       "    }\n",
       "</style>\n",
       "<table border=\"1\" class=\"dataframe\">\n",
       "  <thead>\n",
       "    <tr style=\"text-align: right;\">\n",
       "      <th></th>\n",
       "      <th>Date</th>\n",
       "      <th>Time</th>\n",
       "      <th>Open</th>\n",
       "      <th>High</th>\n",
       "      <th>Low</th>\n",
       "      <th>Last</th>\n",
       "      <th>Volume</th>\n",
       "      <th>NumTrades</th>\n",
       "      <th>OHLC Avg</th>\n",
       "      <th>HLC Avg</th>\n",
       "      <th>...</th>\n",
       "      <th>Line2</th>\n",
       "      <th>Line3</th>\n",
       "      <th>Line4</th>\n",
       "      <th>Line5</th>\n",
       "      <th>Line6</th>\n",
       "      <th>Line7</th>\n",
       "      <th>Line8</th>\n",
       "      <th>Line9</th>\n",
       "      <th>TR</th>\n",
       "      <th>RTH</th>\n",
       "    </tr>\n",
       "  </thead>\n",
       "  <tbody>\n",
       "    <tr>\n",
       "      <th>19274</th>\n",
       "      <td>2024-9-27</td>\n",
       "      <td>10:01:23.398002</td>\n",
       "      <td>5811.70</td>\n",
       "      <td>5813.25</td>\n",
       "      <td>5811.70</td>\n",
       "      <td>5812.44</td>\n",
       "      <td>1500</td>\n",
       "      <td>1070</td>\n",
       "      <td>5812.27</td>\n",
       "      <td>5812.46</td>\n",
       "      <td>...</td>\n",
       "      <td>-2500</td>\n",
       "      <td>5000</td>\n",
       "      <td>-5000</td>\n",
       "      <td>20000</td>\n",
       "      <td>-20000</td>\n",
       "      <td>0</td>\n",
       "      <td>10000</td>\n",
       "      <td>-10000</td>\n",
       "      <td>0.0</td>\n",
       "      <td>752</td>\n",
       "    </tr>\n",
       "    <tr>\n",
       "      <th>19275</th>\n",
       "      <td>2024-9-27</td>\n",
       "      <td>10:01:48.413039</td>\n",
       "      <td>5812.07</td>\n",
       "      <td>5813.00</td>\n",
       "      <td>5811.75</td>\n",
       "      <td>5812.31</td>\n",
       "      <td>1500</td>\n",
       "      <td>998</td>\n",
       "      <td>5812.28</td>\n",
       "      <td>5812.35</td>\n",
       "      <td>...</td>\n",
       "      <td>-2500</td>\n",
       "      <td>5000</td>\n",
       "      <td>-5000</td>\n",
       "      <td>20000</td>\n",
       "      <td>-20000</td>\n",
       "      <td>0</td>\n",
       "      <td>10000</td>\n",
       "      <td>-10000</td>\n",
       "      <td>0.0</td>\n",
       "      <td>634</td>\n",
       "    </tr>\n",
       "    <tr>\n",
       "      <th>19276</th>\n",
       "      <td>2024-9-27</td>\n",
       "      <td>10:02:07.105005</td>\n",
       "      <td>5812.19</td>\n",
       "      <td>5812.25</td>\n",
       "      <td>5809.75</td>\n",
       "      <td>5811.00</td>\n",
       "      <td>1500</td>\n",
       "      <td>1004</td>\n",
       "      <td>5811.30</td>\n",
       "      <td>5811.00</td>\n",
       "      <td>...</td>\n",
       "      <td>-2500</td>\n",
       "      <td>5000</td>\n",
       "      <td>-5000</td>\n",
       "      <td>20000</td>\n",
       "      <td>-20000</td>\n",
       "      <td>0</td>\n",
       "      <td>10000</td>\n",
       "      <td>-10000</td>\n",
       "      <td>0.0</td>\n",
       "      <td>476</td>\n",
       "    </tr>\n",
       "    <tr>\n",
       "      <th>19277</th>\n",
       "      <td>2024-9-27</td>\n",
       "      <td>10:02:23.235000</td>\n",
       "      <td>5811.60</td>\n",
       "      <td>5811.60</td>\n",
       "      <td>5808.50</td>\n",
       "      <td>5809.88</td>\n",
       "      <td>1500</td>\n",
       "      <td>1224</td>\n",
       "      <td>5810.39</td>\n",
       "      <td>5809.99</td>\n",
       "      <td>...</td>\n",
       "      <td>-2500</td>\n",
       "      <td>5000</td>\n",
       "      <td>-5000</td>\n",
       "      <td>20000</td>\n",
       "      <td>-20000</td>\n",
       "      <td>0</td>\n",
       "      <td>10000</td>\n",
       "      <td>-10000</td>\n",
       "      <td>0.0</td>\n",
       "      <td>444</td>\n",
       "    </tr>\n",
       "    <tr>\n",
       "      <th>19278</th>\n",
       "      <td>2024-9-27</td>\n",
       "      <td>10:02:45.401010</td>\n",
       "      <td>5810.74</td>\n",
       "      <td>5812.00</td>\n",
       "      <td>5809.00</td>\n",
       "      <td>5811.75</td>\n",
       "      <td>1250</td>\n",
       "      <td>986</td>\n",
       "      <td>5810.87</td>\n",
       "      <td>5810.92</td>\n",
       "      <td>...</td>\n",
       "      <td>-2500</td>\n",
       "      <td>5000</td>\n",
       "      <td>-5000</td>\n",
       "      <td>20000</td>\n",
       "      <td>-20000</td>\n",
       "      <td>0</td>\n",
       "      <td>10000</td>\n",
       "      <td>-10000</td>\n",
       "      <td>0.0</td>\n",
       "      <td>611</td>\n",
       "    </tr>\n",
       "  </tbody>\n",
       "</table>\n",
       "<p>5 rows × 40 columns</p>\n",
       "</div>"
      ],
      "text/plain": [
       "            Date              Time     Open     High      Low     Last  \\\n",
       "19274  2024-9-27   10:01:23.398002  5811.70  5813.25  5811.70  5812.44   \n",
       "19275  2024-9-27   10:01:48.413039  5812.07  5813.00  5811.75  5812.31   \n",
       "19276  2024-9-27   10:02:07.105005  5812.19  5812.25  5809.75  5811.00   \n",
       "19277  2024-9-27   10:02:23.235000  5811.60  5811.60  5808.50  5809.88   \n",
       "19278  2024-9-27   10:02:45.401010  5810.74  5812.00  5809.00  5811.75   \n",
       "\n",
       "       Volume  NumTrades  OHLC Avg  HLC Avg  ...  Line2  Line3  Line4  Line5  \\\n",
       "19274    1500       1070   5812.27  5812.46  ...  -2500   5000  -5000  20000   \n",
       "19275    1500        998   5812.28  5812.35  ...  -2500   5000  -5000  20000   \n",
       "19276    1500       1004   5811.30  5811.00  ...  -2500   5000  -5000  20000   \n",
       "19277    1500       1224   5810.39  5809.99  ...  -2500   5000  -5000  20000   \n",
       "19278    1250        986   5810.87  5810.92  ...  -2500   5000  -5000  20000   \n",
       "\n",
       "       Line6  Line7  Line8  Line9   TR  RTH  \n",
       "19274 -20000      0  10000 -10000  0.0  752  \n",
       "19275 -20000      0  10000 -10000  0.0  634  \n",
       "19276 -20000      0  10000 -10000  0.0  476  \n",
       "19277 -20000      0  10000 -10000  0.0  444  \n",
       "19278 -20000      0  10000 -10000  0.0  611  \n",
       "\n",
       "[5 rows x 40 columns]"
      ]
     },
     "execution_count": 99,
     "metadata": {},
     "output_type": "execute_result"
    }
   ],
   "source": [
    "df.tail()"
   ]
  },
  {
   "cell_type": "code",
   "execution_count": 102,
   "id": "990485ce-eeae-4036-bf1c-fa66587b4581",
   "metadata": {},
   "outputs": [],
   "source": []
  },
  {
   "cell_type": "code",
   "execution_count": 135,
   "id": "fbca77aa-12cc-4d2d-80e6-a26bb057813e",
   "metadata": {},
   "outputs": [],
   "source": [
    "df1['Date'] = pd.to_datetime(df1['Date'])\n",
    "df2['Date'] = pd.to_datetime(df2['Date'])\n",
    "df3['Date'] = pd.to_datetime(df3['Date'])\n",
    "df4['Date'] = pd.to_datetime(df4['Date'])"
   ]
  },
  {
   "cell_type": "code",
   "execution_count": 136,
   "id": "409267eb-74ea-44c3-beb9-2b46851e9a08",
   "metadata": {},
   "outputs": [],
   "source": []
  },
  {
   "cell_type": "code",
   "execution_count": 101,
   "id": "fa2fa1ce-12aa-4881-96e8-790a298ff9e5",
   "metadata": {},
   "outputs": [],
   "source": [
    "df['DateTime'] = pd.to_datetime(df['Date'].astype(str) + ' ' + df['Time'].astype(str))\n",
    "df.set_index('DateTime', inplace=True)"
   ]
  },
  {
   "cell_type": "code",
   "execution_count": 130,
   "id": "74770bd4-799d-4f69-ab8d-a7facb161b10",
   "metadata": {
    "scrolled": true
   },
   "outputs": [
    {
     "ename": "KeyError",
     "evalue": "\"None of ['Date'] are in the columns\"",
     "output_type": "error",
     "traceback": [
      "\u001b[1;31m---------------------------------------------------------------------------\u001b[0m",
      "\u001b[1;31mKeyError\u001b[0m                                  Traceback (most recent call last)",
      "\u001b[1;32m~\\AppData\\Local\\Temp\\ipykernel_7820\\2505486336.py\u001b[0m in \u001b[0;36m?\u001b[1;34m()\u001b[0m\n\u001b[0;32m      1\u001b[0m \u001b[1;31m#df['Date'] = pd.to_datetime(df['Date'])\u001b[0m\u001b[1;33m\u001b[0m\u001b[1;33m\u001b[0m\u001b[0m\n\u001b[1;32m----> 2\u001b[1;33m \u001b[0mdf\u001b[0m\u001b[1;33m.\u001b[0m\u001b[0mset_index\u001b[0m\u001b[1;33m(\u001b[0m\u001b[1;34m'Date'\u001b[0m\u001b[1;33m,\u001b[0m \u001b[0minplace\u001b[0m\u001b[1;33m=\u001b[0m\u001b[1;32mTrue\u001b[0m\u001b[1;33m)\u001b[0m\u001b[1;33m\u001b[0m\u001b[1;33m\u001b[0m\u001b[0m\n\u001b[0m",
      "\u001b[1;32mD:\\python311\\Lib\\site-packages\\pandas\\core\\frame.py\u001b[0m in \u001b[0;36m?\u001b[1;34m(self, keys, drop, append, inplace, verify_integrity)\u001b[0m\n\u001b[0;32m   6118\u001b[0m                     \u001b[1;32mif\u001b[0m \u001b[1;32mnot\u001b[0m \u001b[0mfound\u001b[0m\u001b[1;33m:\u001b[0m\u001b[1;33m\u001b[0m\u001b[1;33m\u001b[0m\u001b[0m\n\u001b[0;32m   6119\u001b[0m                         \u001b[0mmissing\u001b[0m\u001b[1;33m.\u001b[0m\u001b[0mappend\u001b[0m\u001b[1;33m(\u001b[0m\u001b[0mcol\u001b[0m\u001b[1;33m)\u001b[0m\u001b[1;33m\u001b[0m\u001b[1;33m\u001b[0m\u001b[0m\n\u001b[0;32m   6120\u001b[0m \u001b[1;33m\u001b[0m\u001b[0m\n\u001b[0;32m   6121\u001b[0m         \u001b[1;32mif\u001b[0m \u001b[0mmissing\u001b[0m\u001b[1;33m:\u001b[0m\u001b[1;33m\u001b[0m\u001b[1;33m\u001b[0m\u001b[0m\n\u001b[1;32m-> 6122\u001b[1;33m             \u001b[1;32mraise\u001b[0m \u001b[0mKeyError\u001b[0m\u001b[1;33m(\u001b[0m\u001b[1;34mf\"None of {missing} are in the columns\"\u001b[0m\u001b[1;33m)\u001b[0m\u001b[1;33m\u001b[0m\u001b[1;33m\u001b[0m\u001b[0m\n\u001b[0m\u001b[0;32m   6123\u001b[0m \u001b[1;33m\u001b[0m\u001b[0m\n\u001b[0;32m   6124\u001b[0m         \u001b[1;32mif\u001b[0m \u001b[0minplace\u001b[0m\u001b[1;33m:\u001b[0m\u001b[1;33m\u001b[0m\u001b[1;33m\u001b[0m\u001b[0m\n\u001b[0;32m   6125\u001b[0m             \u001b[0mframe\u001b[0m \u001b[1;33m=\u001b[0m \u001b[0mself\u001b[0m\u001b[1;33m\u001b[0m\u001b[1;33m\u001b[0m\u001b[0m\n",
      "\u001b[1;31mKeyError\u001b[0m: \"None of ['Date'] are in the columns\""
     ]
    }
   ],
   "source": [
    "df = df.loc['2024-09-17']"
   ]
  },
  {
   "cell_type": "code",
   "execution_count": 103,
   "id": "92268614-7ff1-47ef-8236-fac24485c3de",
   "metadata": {},
   "outputs": [
    {
     "data": {
      "text/html": [
       "<div>\n",
       "<style scoped>\n",
       "    .dataframe tbody tr th:only-of-type {\n",
       "        vertical-align: middle;\n",
       "    }\n",
       "\n",
       "    .dataframe tbody tr th {\n",
       "        vertical-align: top;\n",
       "    }\n",
       "\n",
       "    .dataframe thead th {\n",
       "        text-align: right;\n",
       "    }\n",
       "</style>\n",
       "<table border=\"1\" class=\"dataframe\">\n",
       "  <thead>\n",
       "    <tr style=\"text-align: right;\">\n",
       "      <th></th>\n",
       "      <th>Date</th>\n",
       "      <th>Time</th>\n",
       "      <th>Open</th>\n",
       "      <th>High</th>\n",
       "      <th>Low</th>\n",
       "      <th>Last</th>\n",
       "      <th>Volume</th>\n",
       "      <th>NumTrades</th>\n",
       "      <th>OHLC Avg</th>\n",
       "      <th>HLC Avg</th>\n",
       "      <th>...</th>\n",
       "      <th>Line2</th>\n",
       "      <th>Line3</th>\n",
       "      <th>Line4</th>\n",
       "      <th>Line5</th>\n",
       "      <th>Line6</th>\n",
       "      <th>Line7</th>\n",
       "      <th>Line8</th>\n",
       "      <th>Line9</th>\n",
       "      <th>TR</th>\n",
       "      <th>RTH</th>\n",
       "    </tr>\n",
       "    <tr>\n",
       "      <th>DateTime</th>\n",
       "      <th></th>\n",
       "      <th></th>\n",
       "      <th></th>\n",
       "      <th></th>\n",
       "      <th></th>\n",
       "      <th></th>\n",
       "      <th></th>\n",
       "      <th></th>\n",
       "      <th></th>\n",
       "      <th></th>\n",
       "      <th></th>\n",
       "      <th></th>\n",
       "      <th></th>\n",
       "      <th></th>\n",
       "      <th></th>\n",
       "      <th></th>\n",
       "      <th></th>\n",
       "      <th></th>\n",
       "      <th></th>\n",
       "      <th></th>\n",
       "      <th></th>\n",
       "    </tr>\n",
       "  </thead>\n",
       "  <tbody>\n",
       "    <tr>\n",
       "      <th>2024-09-17 00:10:49.266001</th>\n",
       "      <td>2024-9-17</td>\n",
       "      <td>00:10:49.266001</td>\n",
       "      <td>5693.45</td>\n",
       "      <td>5697.00</td>\n",
       "      <td>5693.00</td>\n",
       "      <td>5695.13</td>\n",
       "      <td>1500</td>\n",
       "      <td>1228</td>\n",
       "      <td>5694.64</td>\n",
       "      <td>5695.04</td>\n",
       "      <td>...</td>\n",
       "      <td>-2500</td>\n",
       "      <td>5000</td>\n",
       "      <td>-5000</td>\n",
       "      <td>20000</td>\n",
       "      <td>-20000</td>\n",
       "      <td>0</td>\n",
       "      <td>10000</td>\n",
       "      <td>-10000</td>\n",
       "      <td>1.0</td>\n",
       "      <td>2124</td>\n",
       "    </tr>\n",
       "    <tr>\n",
       "      <th>2024-09-17 00:51:30.875003</th>\n",
       "      <td>2024-9-17</td>\n",
       "      <td>00:51:30.875003</td>\n",
       "      <td>5694.29</td>\n",
       "      <td>5699.25</td>\n",
       "      <td>5694.29</td>\n",
       "      <td>5697.63</td>\n",
       "      <td>1500</td>\n",
       "      <td>1116</td>\n",
       "      <td>5696.36</td>\n",
       "      <td>5697.05</td>\n",
       "      <td>...</td>\n",
       "      <td>-2500</td>\n",
       "      <td>5000</td>\n",
       "      <td>-5000</td>\n",
       "      <td>20000</td>\n",
       "      <td>-20000</td>\n",
       "      <td>0</td>\n",
       "      <td>10000</td>\n",
       "      <td>-10000</td>\n",
       "      <td>1.0</td>\n",
       "      <td>2308</td>\n",
       "    </tr>\n",
       "    <tr>\n",
       "      <th>2024-09-17 01:23:32.125002</th>\n",
       "      <td>2024-9-17</td>\n",
       "      <td>01:23:32.125002</td>\n",
       "      <td>5695.96</td>\n",
       "      <td>5700.00</td>\n",
       "      <td>5695.96</td>\n",
       "      <td>5699.19</td>\n",
       "      <td>1500</td>\n",
       "      <td>1047</td>\n",
       "      <td>5697.77</td>\n",
       "      <td>5698.38</td>\n",
       "      <td>...</td>\n",
       "      <td>-2500</td>\n",
       "      <td>5000</td>\n",
       "      <td>-5000</td>\n",
       "      <td>20000</td>\n",
       "      <td>-20000</td>\n",
       "      <td>0</td>\n",
       "      <td>10000</td>\n",
       "      <td>-10000</td>\n",
       "      <td>1.0</td>\n",
       "      <td>2280</td>\n",
       "    </tr>\n",
       "    <tr>\n",
       "      <th>2024-09-17 01:47:23.196003</th>\n",
       "      <td>2024-9-17</td>\n",
       "      <td>01:47:23.196003</td>\n",
       "      <td>5697.57</td>\n",
       "      <td>5700.50</td>\n",
       "      <td>5697.57</td>\n",
       "      <td>5699.63</td>\n",
       "      <td>1500</td>\n",
       "      <td>1186</td>\n",
       "      <td>5698.82</td>\n",
       "      <td>5699.23</td>\n",
       "      <td>...</td>\n",
       "      <td>-2500</td>\n",
       "      <td>5000</td>\n",
       "      <td>-5000</td>\n",
       "      <td>20000</td>\n",
       "      <td>-20000</td>\n",
       "      <td>0</td>\n",
       "      <td>10000</td>\n",
       "      <td>-10000</td>\n",
       "      <td>1.0</td>\n",
       "      <td>2258</td>\n",
       "    </tr>\n",
       "    <tr>\n",
       "      <th>2024-09-17 02:09:59.509001</th>\n",
       "      <td>2024-9-17</td>\n",
       "      <td>02:09:59.509001</td>\n",
       "      <td>5698.60</td>\n",
       "      <td>5701.25</td>\n",
       "      <td>5698.60</td>\n",
       "      <td>5700.44</td>\n",
       "      <td>1500</td>\n",
       "      <td>993</td>\n",
       "      <td>5699.72</td>\n",
       "      <td>5700.10</td>\n",
       "      <td>...</td>\n",
       "      <td>-2500</td>\n",
       "      <td>5000</td>\n",
       "      <td>-5000</td>\n",
       "      <td>20000</td>\n",
       "      <td>-20000</td>\n",
       "      <td>0</td>\n",
       "      <td>10000</td>\n",
       "      <td>-10000</td>\n",
       "      <td>1.0</td>\n",
       "      <td>2093</td>\n",
       "    </tr>\n",
       "  </tbody>\n",
       "</table>\n",
       "<p>5 rows × 40 columns</p>\n",
       "</div>"
      ],
      "text/plain": [
       "                                 Date              Time     Open     High  \\\n",
       "DateTime                                                                    \n",
       "2024-09-17 00:10:49.266001  2024-9-17   00:10:49.266001  5693.45  5697.00   \n",
       "2024-09-17 00:51:30.875003  2024-9-17   00:51:30.875003  5694.29  5699.25   \n",
       "2024-09-17 01:23:32.125002  2024-9-17   01:23:32.125002  5695.96  5700.00   \n",
       "2024-09-17 01:47:23.196003  2024-9-17   01:47:23.196003  5697.57  5700.50   \n",
       "2024-09-17 02:09:59.509001  2024-9-17   02:09:59.509001  5698.60  5701.25   \n",
       "\n",
       "                                Low     Last  Volume  NumTrades  OHLC Avg  \\\n",
       "DateTime                                                                    \n",
       "2024-09-17 00:10:49.266001  5693.00  5695.13    1500       1228   5694.64   \n",
       "2024-09-17 00:51:30.875003  5694.29  5697.63    1500       1116   5696.36   \n",
       "2024-09-17 01:23:32.125002  5695.96  5699.19    1500       1047   5697.77   \n",
       "2024-09-17 01:47:23.196003  5697.57  5699.63    1500       1186   5698.82   \n",
       "2024-09-17 02:09:59.509001  5698.60  5700.44    1500        993   5699.72   \n",
       "\n",
       "                            HLC Avg  ...  Line2  Line3  Line4  Line5  Line6  \\\n",
       "DateTime                             ...                                      \n",
       "2024-09-17 00:10:49.266001  5695.04  ...  -2500   5000  -5000  20000 -20000   \n",
       "2024-09-17 00:51:30.875003  5697.05  ...  -2500   5000  -5000  20000 -20000   \n",
       "2024-09-17 01:23:32.125002  5698.38  ...  -2500   5000  -5000  20000 -20000   \n",
       "2024-09-17 01:47:23.196003  5699.23  ...  -2500   5000  -5000  20000 -20000   \n",
       "2024-09-17 02:09:59.509001  5700.10  ...  -2500   5000  -5000  20000 -20000   \n",
       "\n",
       "                            Line7  Line8  Line9   TR   RTH  \n",
       "DateTime                                                    \n",
       "2024-09-17 00:10:49.266001      0  10000 -10000  1.0  2124  \n",
       "2024-09-17 00:51:30.875003      0  10000 -10000  1.0  2308  \n",
       "2024-09-17 01:23:32.125002      0  10000 -10000  1.0  2280  \n",
       "2024-09-17 01:47:23.196003      0  10000 -10000  1.0  2258  \n",
       "2024-09-17 02:09:59.509001      0  10000 -10000  1.0  2093  \n",
       "\n",
       "[5 rows x 40 columns]"
      ]
     },
     "execution_count": 103,
     "metadata": {},
     "output_type": "execute_result"
    }
   ],
   "source": [
    "df.head()"
   ]
  },
  {
   "cell_type": "code",
   "execution_count": 104,
   "id": "50e8ae2b-d72a-48c0-ab7e-8883c250f470",
   "metadata": {},
   "outputs": [
    {
     "name": "stdout",
     "output_type": "stream",
     "text": [
      "0\n"
     ]
    }
   ],
   "source": [
    "# Sprawdzenie duplikatów w indeksie\n",
    "print(df.index.duplicated().sum())\n"
   ]
  },
  {
   "cell_type": "code",
   "execution_count": 80,
   "id": "9141450b-6f01-478c-a621-66acfe5b7777",
   "metadata": {},
   "outputs": [
    {
     "data": {
      "text/plain": [
       "Index(['Date', 'Time', 'Open', 'High', 'Low', 'Last', 'Volume', 'NumTrades',\n",
       "       'OHLC Avg', 'HLC Avg', 'HL Avg', 'Bid Vol', 'Ask Vol', 'ECIVwap',\n",
       "       'Top Band 2 of Vwap Standard Deviation',\n",
       "       'Bottom Band 2 of Vwap Standard Deviation',\n",
       "       'Top Band 3 of Vwap Standard Deviation',\n",
       "       'Bottom Band 3 of Vwap Standard Deviation', 'Vwap extension',\n",
       "       'Top band 2 extension', 'Bottom band 2 extension', 'Point of Control',\n",
       "       'Value Area High Value', 'Value Area Low Value',\n",
       "       'Volume Weighted Average Price', 'High.1', 'Low.1', 'High.2', 'Low.2',\n",
       "       'Line1', 'Line2', 'Line3', 'Line4', 'Line5', 'Line6', 'Line7', 'Line8',\n",
       "       'Line9', 'TR', 'RTH'],\n",
       "      dtype='object')"
      ]
     },
     "execution_count": 80,
     "metadata": {},
     "output_type": "execute_result"
    }
   ],
   "source": [
    "df.columns"
   ]
  },
  {
   "cell_type": "code",
   "execution_count": 44,
   "id": "b76e6bc2-5552-4323-a682-1d686b774fed",
   "metadata": {},
   "outputs": [
    {
     "ename": "SyntaxError",
     "evalue": "invalid syntax (1951154506.py, line 1)",
     "output_type": "error",
     "traceback": [
      "\u001b[1;36m  Cell \u001b[1;32mIn[44], line 1\u001b[1;36m\u001b[0m\n\u001b[1;33m    df{[' Volume', ' Volume Weighted Average Price', ' Top Band 2 of Vwap Standard Deviation']}\u001b[0m\n\u001b[1;37m      ^\u001b[0m\n\u001b[1;31mSyntaxError\u001b[0m\u001b[1;31m:\u001b[0m invalid syntax\n"
     ]
    }
   ],
   "source": [
    "df{[' Volume', ' Volume Weighted Average Price', ' Top Band 2 of Vwap Standard Deviation']}"
   ]
  },
  {
   "cell_type": "code",
   "execution_count": 81,
   "id": "a41dc3c6-42b9-478e-9379-962dec43dce8",
   "metadata": {},
   "outputs": [
    {
     "data": {
      "text/plain": [
       "DateTime\n",
       "2024-08-28 18:00:00.000000    5639.19\n",
       "2024-08-28 18:00:35.194000    5638.94\n",
       "2024-08-28 18:02:11.568004    5642.38\n",
       "2024-08-28 18:04:52.057001    5645.25\n",
       "2024-08-28 18:08:05.622003    5641.75\n",
       "2024-08-28 18:11:25.748001    5640.63\n",
       "2024-08-28 18:19:05.797002    5640.44\n",
       "2024-08-28 18:28:25.701000    5638.94\n",
       "2024-08-28 18:40:58.127011    5632.44\n",
       "2024-08-28 18:40:58.217001    5628.69\n",
       "2024-08-28 18:42:10.970076    5628.38\n",
       "2024-08-28 18:43:44.369001    5627.38\n",
       "2024-08-28 18:46:24.819005    5628.81\n",
       "2024-08-28 18:51:50.357002    5631.38\n",
       "2024-08-28 19:02:37.801002    5632.56\n",
       "2024-08-28 19:14:29.180004    5631.44\n",
       "2024-08-28 19:28:23.150000    5631.81\n",
       "2024-08-28 19:48:41.208001    5634.50\n",
       "2024-08-28 20:02:14.637004    5635.19\n",
       "2024-08-28 20:10:32.660001    5637.81\n",
       "2024-08-28 20:17:29.202007    5640.56\n",
       "2024-08-28 20:28:32.742002    5643.06\n",
       "2024-08-28 20:41:46.515010    5644.06\n",
       "2024-08-28 20:51:07.106005    5644.25\n",
       "2024-08-28 21:09:10.047008    5643.44\n",
       "2024-08-28 21:21:03.120004    5641.69\n",
       "2024-08-28 21:29:59.391003    5641.38\n",
       "2024-08-28 21:41:40.365001    5642.94\n",
       "2024-08-28 22:06:58.401000    5642.94\n",
       "2024-08-28 22:27:12.558000    5646.38\n",
       "2024-08-28 22:47:35.955001    5648.94\n",
       "2024-08-28 23:07:52.673002    5650.31\n",
       "2024-08-28 23:36:39.313004    5650.63\n",
       "2024-08-28 23:56:34.133022    5652.13\n",
       "Name: Last, dtype: float64"
      ]
     },
     "execution_count": 81,
     "metadata": {},
     "output_type": "execute_result"
    }
   ],
   "source": [
    "df['Last']"
   ]
  },
  {
   "cell_type": "code",
   "execution_count": 105,
   "id": "bf89c5a9-9fed-47b6-b57c-266ba504b70c",
   "metadata": {},
   "outputs": [],
   "source": [
    "close_price = df['Last']\n",
    "top = df['Top Band 2 of Vwap Standard Deviation']\n",
    "bot = df['Bottom Band 2 of Vwap Standard Deviation']"
   ]
  },
  {
   "cell_type": "code",
   "execution_count": 112,
   "id": "242c3b59-3292-4a8c-bc6f-25e2841ca3d8",
   "metadata": {},
   "outputs": [],
   "source": [
    "above_top = np.where((top.shift(1) > close_price.shift(1)) & (top < close_price), 1, 0)\n",
    "below_top = np.where(top.shift(5) < close_price.shift(5), 1, 0)\n",
    "entries = above_top\n",
    "exites = below_top"
   ]
  },
  {
   "cell_type": "code",
   "execution_count": 82,
   "id": "8f75a227-baec-45e2-b7bf-4ffadf016cc3",
   "metadata": {},
   "outputs": [
    {
     "name": "stdout",
     "output_type": "stream",
     "text": [
      "[False False  True ... False False False]\n"
     ]
    }
   ],
   "source": []
  },
  {
   "cell_type": "code",
   "execution_count": 18,
   "id": "6e806d5f-e492-48c2-ae22-abd5bb90b2f7",
   "metadata": {},
   "outputs": [],
   "source": [
    "ma10 = close_price.rolling(window=10).mean()\n",
    "\n",
    "entries = close_price > df[' Volume Weighted Average Price']\n",
    "exits = close_price < df[' Volume Weighted Average Price']"
   ]
  },
  {
   "cell_type": "code",
   "execution_count": null,
   "id": "8517e962-68e4-4fd6-b5e8-6faf43c26983",
   "metadata": {},
   "outputs": [],
   "source": [
    "rsi = vbt.RSI.run(close_price, window =[14,21])\n",
    "\n",
    "entries = rsi.rsi_crossed_below(30)\n",
    "exits = rsi.rsi_crossed_above(70)"
   ]
  },
  {
   "cell_type": "code",
   "execution_count": 79,
   "id": "c08a133a-ac6f-4192-a7b0-742e4639c599",
   "metadata": {},
   "outputs": [],
   "source": []
  },
  {
   "cell_type": "code",
   "execution_count": 113,
   "id": "6f183582-c9f9-40f7-a7aa-ecf546dffa9f",
   "metadata": {
    "scrolled": true
   },
   "outputs": [
    {
     "name": "stdout",
     "output_type": "stream",
     "text": [
      "Start                         2024-09-17 00:10:49.266001\n",
      "End                           2024-09-17 23:46:29.735001\n",
      "Period                                               744\n",
      "Start Value                                        100.0\n",
      "End Value                                     100.070584\n",
      "Total Return [%]                                0.070584\n",
      "Benchmark Return [%]                            0.156801\n",
      "Max Gross Exposure [%]                             100.0\n",
      "Total Fees Paid                                      0.0\n",
      "Max Drawdown [%]                                0.108979\n",
      "Max Drawdown Duration                              683.0\n",
      "Total Trades                                           6\n",
      "Total Closed Trades                                    6\n",
      "Total Open Trades                                      0\n",
      "Open Trade PnL                                       0.0\n",
      "Win Rate [%]                                   83.333333\n",
      "Best Trade [%]                                   0.07898\n",
      "Worst Trade [%]                                -0.106886\n",
      "Avg Winning Trade [%]                            0.03551\n",
      "Avg Losing Trade [%]                           -0.106886\n",
      "Avg Winning Trade Duration                           4.6\n",
      "Avg Losing Trade Duration                            5.0\n",
      "Profit Factor                                   1.659542\n",
      "Expectancy                                      0.011764\n",
      "Name: Last, dtype: object\n"
     ]
    },
    {
     "name": "stderr",
     "output_type": "stream",
     "text": [
      "D:\\python311\\Lib\\site-packages\\vectorbt\\generic\\stats_builder.py:396: UserWarning:\n",
      "\n",
      "Metric 'sharpe_ratio' requires frequency to be set\n",
      "\n",
      "D:\\python311\\Lib\\site-packages\\vectorbt\\generic\\stats_builder.py:396: UserWarning:\n",
      "\n",
      "Metric 'calmar_ratio' requires frequency to be set\n",
      "\n",
      "D:\\python311\\Lib\\site-packages\\vectorbt\\generic\\stats_builder.py:396: UserWarning:\n",
      "\n",
      "Metric 'omega_ratio' requires frequency to be set\n",
      "\n",
      "D:\\python311\\Lib\\site-packages\\vectorbt\\generic\\stats_builder.py:396: UserWarning:\n",
      "\n",
      "Metric 'sortino_ratio' requires frequency to be set\n",
      "\n"
     ]
    }
   ],
   "source": [
    "pf = vbt.Portfolio.from_signals(\n",
    "    close_price,\n",
    "    entries,\n",
    "    exites,\n",
    "    )\n",
    "\n",
    "# Analiza wyników\n",
    "print(pf.stats())\n"
   ]
  },
  {
   "cell_type": "code",
   "execution_count": 62,
   "id": "5174995c-40f5-4a60-8e7b-236318026b42",
   "metadata": {},
   "outputs": [],
   "source": [
    "import plotly.graph_objects as go\n",
    "fig = go.Figure(data=[go.Candlestick(\n",
    "    x=df.index,\n",
    "    open=df['Open'],\n",
    "    high=df['High'],\n",
    "    low=df['Low'],\n",
    "    close=df['Last']\n",
    ")])\n",
    "\n",
    "# Wyświetlenie wykresu\n",
    "fig.show()"
   ]
  },
  {
   "cell_type": "code",
   "execution_count": 114,
   "id": "e94813ba-e09b-4ee5-ad39-25d6dcb53aab",
   "metadata": {
    "scrolled": true
   },
   "outputs": [],
   "source": [
    "pf.plot().show()"
   ]
  },
  {
   "cell_type": "code",
   "execution_count": null,
   "id": "058e978b-bf3e-4215-bdc1-537320a5f824",
   "metadata": {},
   "outputs": [],
   "source": [
    "pf."
   ]
  },
  {
   "cell_type": "code",
   "execution_count": null,
   "id": "33e7a60a-bc41-417e-8a46-2431391fca44",
   "metadata": {},
   "outputs": [],
   "source": []
  },
  {
   "cell_type": "code",
   "execution_count": null,
   "id": "642b08f4-fdf6-46f6-a7e3-4f2676e526d8",
   "metadata": {},
   "outputs": [],
   "source": [
    "def custom_indicator(close, rsi_window = 14, ma_window = 50):\n",
    "    close_5m = close.resample(\"5T\").last()\n",
    "    rsi = vbt.RSI.run(close_5m, window = rsi_window).rsi\n",
    "    rsi, _ = rsi.align(close, \n",
    "            broadcast_axis=0,\n",
    "            method='ffill',\n",
    "            join='right')\n",
    "\n",
    "    close = close.to_numpy()\n",
    "    rsi = rsi.to_numpy()\n",
    "    ma = vbt.MA.run(close, ma_window).ma.to_numpy()\n",
    "    trend = np.where( rsi > 70, -1, 0)\n",
    "    trend = np.where( (rsi < 30) & (close < ma), 1, trend)\n",
    "    return trend\n",
    "\n",
    "ind = vbt.IndicatorFactory(\n",
    "        class_name = \"Combination\",\n",
    "        short_name = \"comb\",\n",
    "        input_names = [\"close\"],\n",
    "        param_names = [\"rsi_window\", \"ma_window\"],\n",
    "        output_names = [\"value\"]\n",
    "        ).from_apply_func(\n",
    "                custom_indicator,\n",
    "                rsi_window = 14,\n",
    "                ma_window = 50,\n",
    "                keep_pd=True\n",
    "                )\n",
    "\n",
    "res = ind.run(\n",
    "        btc_price,\n",
    "        rsi_window = 21,\n",
    "        ma_window = 50\n",
    "        )\n",
    "\n",
    "print(res.value.to_string())\n",
    "\n",
    "entries = res.value == 1.0\n",
    "exits = res.value == -1.0"
   ]
  },
  {
   "cell_type": "code",
   "execution_count": 115,
   "id": "ae8faeda-d580-4592-9dca-7c4954947178",
   "metadata": {},
   "outputs": [],
   "source": [
    "fig = pf.plot(subplots = [\n",
    "    ('price', dict(\n",
    "        title='Price',\n",
    "        yaxis_kwargs=dict(title='Price')\n",
    "        )),\n",
    "    ('price', dict(\n",
    "        title='Price',\n",
    "        yaxis_kwargs=dict(title='Price')\n",
    "        )),\n",
    "    'orders',\n",
    "    'trade_pnl',\n",
    "    'cum_returns',],\n",
    "    make_subplots_kwargs=dict(rows=10, cols=2))"
   ]
  },
  {
   "cell_type": "code",
   "execution_count": 116,
   "id": "85cbb3ff-ae55-4d33-a3c1-8d3b3a84e418",
   "metadata": {},
   "outputs": [],
   "source": [
    "scatter = vbt.plotting.Scatter(\n",
    "        data = close_price,\n",
    "        x_labels = close_price.index,\n",
    "        trace_names = [\"Price\"],\n",
    "        trace_kwargs=dict(line=dict(color='red')),\n",
    "        add_trace_kwargs=dict(row=1,col=1),\n",
    "        fig=fig)\n",
    "\n",
    "top_scatter = vbt.plotting.Scatter(\n",
    "        data = top,\n",
    "        x_labels = top.index,\n",
    "        trace_names = [\"Top\"],\n",
    "        trace_kwargs=dict(line=dict(color='green')),\n",
    "        add_trace_kwargs=dict(row=1,col=1),\n",
    "        fig=fig)\n",
    "bot_scatter = vbt.plotting.Scatter(\n",
    "        data = bot,\n",
    "        x_labels = bot.index,\n",
    "        trace_names = [\"Bot\"],\n",
    "        trace_kwargs=dict(line=dict(color='yellow')),\n",
    "        add_trace_kwargs=dict(row=1,col=1),\n",
    "        fig=fig)\n",
    "\n"
   ]
  },
  {
   "cell_type": "code",
   "execution_count": 49,
   "id": "a2846402-717a-455d-808d-87dcf58c69ea",
   "metadata": {},
   "outputs": [],
   "source": [
    "vbt.settings.set_theme(\"seaborn\")\n",
    "vbt.settings['plotting']['layout']['width'] = 1200\n",
    "vbt.settings['plotting']['layout']['height'] = 600"
   ]
  },
  {
   "cell_type": "code",
   "execution_count": 117,
   "id": "fef7d814-c1ad-46a7-80f0-62e793efbba5",
   "metadata": {},
   "outputs": [],
   "source": [
    "fig.show()"
   ]
  },
  {
   "cell_type": "code",
   "execution_count": 171,
   "id": "b9f7977e-e55d-403e-b96a-ecbc75cfb2c5",
   "metadata": {},
   "outputs": [
    {
     "ename": "AttributeError",
     "evalue": "'numpy.ndarray' object has no attribute 'vbt'",
     "output_type": "error",
     "traceback": [
      "\u001b[1;31m---------------------------------------------------------------------------\u001b[0m",
      "\u001b[1;31mAttributeError\u001b[0m                            Traceback (most recent call last)",
      "Cell \u001b[1;32mIn[171], line 1\u001b[0m\n\u001b[1;32m----> 1\u001b[0m entries_plot \u001b[38;5;241m=\u001b[39m \u001b[43mentries\u001b[49m\u001b[38;5;241;43m.\u001b[39;49m\u001b[43mvbt\u001b[49m\u001b[38;5;241m.\u001b[39msignals\u001b[38;5;241m.\u001b[39mplot_as_entry_markers(\n\u001b[0;32m      2\u001b[0m         slow_ma\u001b[38;5;241m.\u001b[39mma,\n\u001b[0;32m      3\u001b[0m         add_trace_kwargs\u001b[38;5;241m=\u001b[39m\u001b[38;5;28mdict\u001b[39m(row\u001b[38;5;241m=\u001b[39m\u001b[38;5;241m1\u001b[39m,col\u001b[38;5;241m=\u001b[39m\u001b[38;5;241m1\u001b[39m),\n\u001b[0;32m      4\u001b[0m         fig\u001b[38;5;241m=\u001b[39mfig)\n\u001b[0;32m      6\u001b[0m exits_plot \u001b[38;5;241m=\u001b[39m exits\u001b[38;5;241m.\u001b[39mvbt\u001b[38;5;241m.\u001b[39msignals\u001b[38;5;241m.\u001b[39mplot_as_exit_markers(\n\u001b[0;32m      7\u001b[0m         slow_ma\u001b[38;5;241m.\u001b[39mma,\n\u001b[0;32m      8\u001b[0m         add_trace_kwargs\u001b[38;5;241m=\u001b[39m\u001b[38;5;28mdict\u001b[39m(row\u001b[38;5;241m=\u001b[39m\u001b[38;5;241m1\u001b[39m,col\u001b[38;5;241m=\u001b[39m\u001b[38;5;241m1\u001b[39m),\n\u001b[0;32m      9\u001b[0m         fig\u001b[38;5;241m=\u001b[39mfig)\n",
      "\u001b[1;31mAttributeError\u001b[0m: 'numpy.ndarray' object has no attribute 'vbt'"
     ]
    }
   ],
   "source": [
    "entries_plot = entries.vbt.signals.plot_as_entry_markers(\n",
    "        slow_ma.ma,\n",
    "        add_trace_kwargs=dict(row=1,col=1),\n",
    "        fig=fig)\n",
    "\n",
    "exits_plot = exits.vbt.signals.plot_as_exit_markers(\n",
    "        slow_ma.ma,\n",
    "        add_trace_kwargs=dict(row=1,col=1),\n",
    "        fig=fig)\n"
   ]
  },
  {
   "cell_type": "code",
   "execution_count": 120,
   "id": "31ea32d4-58c9-480f-ab96-ba05fd358465",
   "metadata": {},
   "outputs": [
    {
     "ename": "AttributeError",
     "evalue": "module 'vectorbt' has no attribute 'plot_candlestick'",
     "output_type": "error",
     "traceback": [
      "\u001b[1;31m---------------------------------------------------------------------------\u001b[0m",
      "\u001b[1;31mAttributeError\u001b[0m                            Traceback (most recent call last)",
      "Cell \u001b[1;32mIn[120], line 1\u001b[0m\n\u001b[1;32m----> 1\u001b[0m \u001b[43mvbt\u001b[49m\u001b[38;5;241;43m.\u001b[39;49m\u001b[43mplot_candlestick\u001b[49m(\n\u001b[0;32m      2\u001b[0m     \u001b[38;5;28mopen\u001b[39m\u001b[38;5;241m=\u001b[39mdf[\u001b[38;5;124m'\u001b[39m\u001b[38;5;124mOpen\u001b[39m\u001b[38;5;124m'\u001b[39m],\n\u001b[0;32m      3\u001b[0m     high\u001b[38;5;241m=\u001b[39mdf[\u001b[38;5;124m'\u001b[39m\u001b[38;5;124mHigh\u001b[39m\u001b[38;5;124m'\u001b[39m],\n\u001b[0;32m      4\u001b[0m     low\u001b[38;5;241m=\u001b[39mdf[\u001b[38;5;124m'\u001b[39m\u001b[38;5;124mLow\u001b[39m\u001b[38;5;124m'\u001b[39m],\n\u001b[0;32m      5\u001b[0m     close\u001b[38;5;241m=\u001b[39mdf[\u001b[38;5;124m'\u001b[39m\u001b[38;5;124mClose\u001b[39m\u001b[38;5;124m'\u001b[39m],\n\u001b[0;32m      6\u001b[0m     volume\u001b[38;5;241m=\u001b[39mdf[\u001b[38;5;124m'\u001b[39m\u001b[38;5;124mVolume\u001b[39m\u001b[38;5;124m'\u001b[39m]\n\u001b[0;32m      7\u001b[0m )\n",
      "\u001b[1;31mAttributeError\u001b[0m: module 'vectorbt' has no attribute 'plot_candlestick'"
     ]
    }
   ],
   "source": [
    "vbt.plot_candlestick(\n",
    "    open=df['Open'],\n",
    "    high=df['High'],\n",
    "    low=df['Low'],\n",
    "    close=df['Close'],\n",
    "    volume=df['Volume']\n",
    ")\n"
   ]
  },
  {
   "cell_type": "code",
   "execution_count": null,
   "id": "bd6d8867-71bd-4803-854b-0ec591302bdd",
   "metadata": {},
   "outputs": [],
   "source": [
    "fig.add_hline( y= 38000,\n",
    "                line_color=\"#FFFFFF\",\n",
    "                row=1,\n",
    "                col = 2,\n",
    "                line_width=20)"
   ]
  },
  {
   "cell_type": "code",
   "execution_count": null,
   "id": "a5180c3b-5312-420f-bb36-f20ffd060031",
   "metadata": {},
   "outputs": [],
   "source": []
  },
  {
   "cell_type": "code",
   "execution_count": null,
   "id": "877f69fa-96b7-4800-a911-cd01eaf4c553",
   "metadata": {},
   "outputs": [],
   "source": []
  }
 ],
 "metadata": {
  "kernelspec": {
   "display_name": "Python 3 (ipykernel)",
   "language": "python",
   "name": "python3"
  },
  "language_info": {
   "codemirror_mode": {
    "name": "ipython",
    "version": 3
   },
   "file_extension": ".py",
   "mimetype": "text/x-python",
   "name": "python",
   "nbconvert_exporter": "python",
   "pygments_lexer": "ipython3",
   "version": "3.11.2"
  }
 },
 "nbformat": 4,
 "nbformat_minor": 5
}
