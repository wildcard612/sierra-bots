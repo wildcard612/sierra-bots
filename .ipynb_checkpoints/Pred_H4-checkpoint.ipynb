{
 "cells": [
  {
   "cell_type": "markdown",
   "metadata": {},
   "source": [
    "# Forex predictions using Machine Learning\n",
    "# Loading and preparing data"
   ]
  },
  {
   "cell_type": "code",
   "execution_count": 1,
   "metadata": {
    "scrolled": true
   },
   "outputs": [
    {
     "data": {
      "text/html": [
       "<div>\n",
       "<style scoped>\n",
       "    .dataframe tbody tr th:only-of-type {\n",
       "        vertical-align: middle;\n",
       "    }\n",
       "\n",
       "    .dataframe tbody tr th {\n",
       "        vertical-align: top;\n",
       "    }\n",
       "\n",
       "    .dataframe thead th {\n",
       "        text-align: right;\n",
       "    }\n",
       "</style>\n",
       "<table border=\"1\" class=\"dataframe\">\n",
       "  <thead>\n",
       "    <tr style=\"text-align: right;\">\n",
       "      <th></th>\n",
       "      <th>local time</th>\n",
       "      <th>open</th>\n",
       "      <th>high</th>\n",
       "      <th>low</th>\n",
       "      <th>close</th>\n",
       "      <th>volume</th>\n",
       "    </tr>\n",
       "  </thead>\n",
       "  <tbody>\n",
       "    <tr>\n",
       "      <th>25815</th>\n",
       "      <td>18.10.2019 04:00:00.000 GMT+0300</td>\n",
       "      <td>0.98760</td>\n",
       "      <td>0.98800</td>\n",
       "      <td>0.98721</td>\n",
       "      <td>0.98739</td>\n",
       "      <td>9600.39</td>\n",
       "    </tr>\n",
       "    <tr>\n",
       "      <th>25816</th>\n",
       "      <td>18.10.2019 08:00:00.000 GMT+0300</td>\n",
       "      <td>0.98738</td>\n",
       "      <td>0.98911</td>\n",
       "      <td>0.98658</td>\n",
       "      <td>0.98812</td>\n",
       "      <td>13590.82</td>\n",
       "    </tr>\n",
       "    <tr>\n",
       "      <th>25817</th>\n",
       "      <td>18.10.2019 12:00:00.000 GMT+0300</td>\n",
       "      <td>0.98812</td>\n",
       "      <td>0.98919</td>\n",
       "      <td>0.98583</td>\n",
       "      <td>0.98731</td>\n",
       "      <td>16145.11</td>\n",
       "    </tr>\n",
       "    <tr>\n",
       "      <th>25818</th>\n",
       "      <td>18.10.2019 16:00:00.000 GMT+0300</td>\n",
       "      <td>0.98729</td>\n",
       "      <td>0.98811</td>\n",
       "      <td>0.98464</td>\n",
       "      <td>0.98473</td>\n",
       "      <td>24720.94</td>\n",
       "    </tr>\n",
       "    <tr>\n",
       "      <th>25819</th>\n",
       "      <td>18.10.2019 20:00:00.000 GMT+0300</td>\n",
       "      <td>0.98473</td>\n",
       "      <td>0.98610</td>\n",
       "      <td>0.98424</td>\n",
       "      <td>0.98462</td>\n",
       "      <td>12850.03</td>\n",
       "    </tr>\n",
       "  </tbody>\n",
       "</table>\n",
       "</div>"
      ],
      "text/plain": [
       "                             local time     open     high      low    close  \\\n",
       "25815  18.10.2019 04:00:00.000 GMT+0300  0.98760  0.98800  0.98721  0.98739   \n",
       "25816  18.10.2019 08:00:00.000 GMT+0300  0.98738  0.98911  0.98658  0.98812   \n",
       "25817  18.10.2019 12:00:00.000 GMT+0300  0.98812  0.98919  0.98583  0.98731   \n",
       "25818  18.10.2019 16:00:00.000 GMT+0300  0.98729  0.98811  0.98464  0.98473   \n",
       "25819  18.10.2019 20:00:00.000 GMT+0300  0.98473  0.98610  0.98424  0.98462   \n",
       "\n",
       "         volume  \n",
       "25815   9600.39  \n",
       "25816  13590.82  \n",
       "25817  16145.11  \n",
       "25818  24720.94  \n",
       "25819  12850.03  "
      ]
     },
     "execution_count": 1,
     "metadata": {},
     "output_type": "execute_result"
    }
   ],
   "source": [
    "import pandas as pd\n",
    "df = pd.read_csv(\"USDCHF_Candlestick_4_Hour_ASK_05.05.2003-19.10.2019.csv\")\n",
    "df.tail()"
   ]
  },
  {
   "cell_type": "code",
   "execution_count": 2,
   "metadata": {},
   "outputs": [
    {
     "data": {
      "text/plain": [
       "local time    0\n",
       "open          0\n",
       "high          0\n",
       "low           0\n",
       "close         0\n",
       "volume        0\n",
       "dtype: int64"
      ]
     },
     "execution_count": 2,
     "metadata": {},
     "output_type": "execute_result"
    }
   ],
   "source": [
    "#Check if any zero volumes are available\n",
    "indexZeros = df[ df['volume'] == 0 ].index\n",
    "\n",
    "df.drop(indexZeros , inplace=True)\n",
    "df.loc[(df[\"volume\"] == 0 )]\n",
    "df.isna().sum()"
   ]
  },
  {
   "cell_type": "code",
   "execution_count": 3,
   "metadata": {
    "scrolled": false
   },
   "outputs": [],
   "source": [
    "import numpy as np\n",
    "import pandas_ta as ta\n",
    "#df.ta.indicators()\n",
    "#help(ta.atr)\n",
    "df['ATR'] = df.ta.atr(length=20)\n",
    "df['RSI'] = df.ta.rsi()\n",
    "df['Average'] = df.ta.midprice(length=1) #midprice\n",
    "df['MA40'] = df.ta.sma(length=40)\n",
    "df['MA80'] = df.ta.sma(length=80)\n",
    "df['MA160'] = df.ta.sma(length=160)\n",
    "\n",
    "from scipy.stats import linregress\n",
    "def get_slope(array):\n",
    "    y = np.array(array)\n",
    "    x = np.arange(len(y))\n",
    "    slope, intercept, r_value, p_value, std_err = linregress(x,y)\n",
    "    return slope\n",
    "\n",
    "#!!!!!!!!!!!!!!!!!!!!!!!!!!!!!\n",
    "backrollingN = 6\n",
    "#!!!!!!!!!!!!!!!!!!!!!!!!!!!!!\n",
    "df['slopeMA40'] = df['MA40'].rolling(window=backrollingN).apply(get_slope, raw=True)\n",
    "df['slopeMA80'] = df['MA80'].rolling(window=backrollingN).apply(get_slope, raw=True)\n",
    "df['slopeMA160'] = df['MA160'].rolling(window=backrollingN).apply(get_slope, raw=True)\n",
    "df['AverageSlope'] = df['Average'].rolling(window=backrollingN).apply(get_slope, raw=True)\n",
    "df['RSISlope'] = df['RSI'].rolling(window=backrollingN).apply(get_slope, raw=True)"
   ]
  },
  {
   "cell_type": "code",
   "execution_count": 4,
   "metadata": {
    "scrolled": true
   },
   "outputs": [
    {
     "data": {
      "text/html": [
       "<div>\n",
       "<style scoped>\n",
       "    .dataframe tbody tr th:only-of-type {\n",
       "        vertical-align: middle;\n",
       "    }\n",
       "\n",
       "    .dataframe tbody tr th {\n",
       "        vertical-align: top;\n",
       "    }\n",
       "\n",
       "    .dataframe thead th {\n",
       "        text-align: right;\n",
       "    }\n",
       "</style>\n",
       "<table border=\"1\" class=\"dataframe\">\n",
       "  <thead>\n",
       "    <tr style=\"text-align: right;\">\n",
       "      <th></th>\n",
       "      <th>local time</th>\n",
       "      <th>open</th>\n",
       "      <th>high</th>\n",
       "      <th>low</th>\n",
       "      <th>close</th>\n",
       "      <th>volume</th>\n",
       "      <th>ATR</th>\n",
       "      <th>RSI</th>\n",
       "      <th>Average</th>\n",
       "      <th>MA40</th>\n",
       "      <th>MA80</th>\n",
       "      <th>MA160</th>\n",
       "      <th>slopeMA40</th>\n",
       "      <th>slopeMA80</th>\n",
       "      <th>slopeMA160</th>\n",
       "      <th>AverageSlope</th>\n",
       "      <th>RSISlope</th>\n",
       "    </tr>\n",
       "  </thead>\n",
       "  <tbody>\n",
       "    <tr>\n",
       "      <th>25815</th>\n",
       "      <td>18.10.2019 04:00:00.000 GMT+0300</td>\n",
       "      <td>0.98760</td>\n",
       "      <td>0.98800</td>\n",
       "      <td>0.98721</td>\n",
       "      <td>0.98739</td>\n",
       "      <td>9600.39</td>\n",
       "      <td>0.002046</td>\n",
       "      <td>29.068499</td>\n",
       "      <td>0.987605</td>\n",
       "      <td>0.995346</td>\n",
       "      <td>0.995749</td>\n",
       "      <td>0.993778</td>\n",
       "      <td>-0.000149</td>\n",
       "      <td>-0.000098</td>\n",
       "      <td>-0.000031</td>\n",
       "      <td>-0.001048</td>\n",
       "      <td>-1.171500</td>\n",
       "    </tr>\n",
       "    <tr>\n",
       "      <th>25816</th>\n",
       "      <td>18.10.2019 08:00:00.000 GMT+0300</td>\n",
       "      <td>0.98738</td>\n",
       "      <td>0.98911</td>\n",
       "      <td>0.98658</td>\n",
       "      <td>0.98812</td>\n",
       "      <td>13590.82</td>\n",
       "      <td>0.002070</td>\n",
       "      <td>32.366698</td>\n",
       "      <td>0.987845</td>\n",
       "      <td>0.995149</td>\n",
       "      <td>0.995622</td>\n",
       "      <td>0.993745</td>\n",
       "      <td>-0.000163</td>\n",
       "      <td>-0.000117</td>\n",
       "      <td>-0.000033</td>\n",
       "      <td>-0.000504</td>\n",
       "      <td>0.757303</td>\n",
       "    </tr>\n",
       "    <tr>\n",
       "      <th>25817</th>\n",
       "      <td>18.10.2019 12:00:00.000 GMT+0300</td>\n",
       "      <td>0.98812</td>\n",
       "      <td>0.98919</td>\n",
       "      <td>0.98583</td>\n",
       "      <td>0.98731</td>\n",
       "      <td>16145.11</td>\n",
       "      <td>0.002135</td>\n",
       "      <td>30.671213</td>\n",
       "      <td>0.987510</td>\n",
       "      <td>0.994931</td>\n",
       "      <td>0.995473</td>\n",
       "      <td>0.993710</td>\n",
       "      <td>-0.000178</td>\n",
       "      <td>-0.000130</td>\n",
       "      <td>-0.000034</td>\n",
       "      <td>-0.000039</td>\n",
       "      <td>0.813988</td>\n",
       "    </tr>\n",
       "    <tr>\n",
       "      <th>25818</th>\n",
       "      <td>18.10.2019 16:00:00.000 GMT+0300</td>\n",
       "      <td>0.98729</td>\n",
       "      <td>0.98811</td>\n",
       "      <td>0.98464</td>\n",
       "      <td>0.98473</td>\n",
       "      <td>24720.94</td>\n",
       "      <td>0.002201</td>\n",
       "      <td>26.019686</td>\n",
       "      <td>0.986375</td>\n",
       "      <td>0.994678</td>\n",
       "      <td>0.995271</td>\n",
       "      <td>0.993653</td>\n",
       "      <td>-0.000200</td>\n",
       "      <td>-0.000144</td>\n",
       "      <td>-0.000039</td>\n",
       "      <td>-0.000207</td>\n",
       "      <td>-0.435769</td>\n",
       "    </tr>\n",
       "    <tr>\n",
       "      <th>25819</th>\n",
       "      <td>18.10.2019 20:00:00.000 GMT+0300</td>\n",
       "      <td>0.98473</td>\n",
       "      <td>0.98610</td>\n",
       "      <td>0.98424</td>\n",
       "      <td>0.98462</td>\n",
       "      <td>12850.03</td>\n",
       "      <td>0.002184</td>\n",
       "      <td>25.840664</td>\n",
       "      <td>0.985170</td>\n",
       "      <td>0.994418</td>\n",
       "      <td>0.995073</td>\n",
       "      <td>0.993597</td>\n",
       "      <td>-0.000222</td>\n",
       "      <td>-0.000161</td>\n",
       "      <td>-0.000043</td>\n",
       "      <td>-0.000517</td>\n",
       "      <td>-0.825982</td>\n",
       "    </tr>\n",
       "  </tbody>\n",
       "</table>\n",
       "</div>"
      ],
      "text/plain": [
       "                             local time     open     high      low    close  \\\n",
       "25815  18.10.2019 04:00:00.000 GMT+0300  0.98760  0.98800  0.98721  0.98739   \n",
       "25816  18.10.2019 08:00:00.000 GMT+0300  0.98738  0.98911  0.98658  0.98812   \n",
       "25817  18.10.2019 12:00:00.000 GMT+0300  0.98812  0.98919  0.98583  0.98731   \n",
       "25818  18.10.2019 16:00:00.000 GMT+0300  0.98729  0.98811  0.98464  0.98473   \n",
       "25819  18.10.2019 20:00:00.000 GMT+0300  0.98473  0.98610  0.98424  0.98462   \n",
       "\n",
       "         volume       ATR        RSI   Average      MA40      MA80     MA160  \\\n",
       "25815   9600.39  0.002046  29.068499  0.987605  0.995346  0.995749  0.993778   \n",
       "25816  13590.82  0.002070  32.366698  0.987845  0.995149  0.995622  0.993745   \n",
       "25817  16145.11  0.002135  30.671213  0.987510  0.994931  0.995473  0.993710   \n",
       "25818  24720.94  0.002201  26.019686  0.986375  0.994678  0.995271  0.993653   \n",
       "25819  12850.03  0.002184  25.840664  0.985170  0.994418  0.995073  0.993597   \n",
       "\n",
       "       slopeMA40  slopeMA80  slopeMA160  AverageSlope  RSISlope  \n",
       "25815  -0.000149  -0.000098   -0.000031     -0.001048 -1.171500  \n",
       "25816  -0.000163  -0.000117   -0.000033     -0.000504  0.757303  \n",
       "25817  -0.000178  -0.000130   -0.000034     -0.000039  0.813988  \n",
       "25818  -0.000200  -0.000144   -0.000039     -0.000207 -0.435769  \n",
       "25819  -0.000222  -0.000161   -0.000043     -0.000517 -0.825982  "
      ]
     },
     "execution_count": 4,
     "metadata": {},
     "output_type": "execute_result"
    }
   ],
   "source": [
    "df.tail()"
   ]
  },
  {
   "cell_type": "markdown",
   "metadata": {},
   "source": [
    "# Target categories"
   ]
  },
  {
   "cell_type": "code",
   "execution_count": 5,
   "metadata": {},
   "outputs": [],
   "source": [
    "#Target flexible way\n",
    "pipdiff = 500*1e-5 #for TP\n",
    "SLTPRatio = 2 #pipdiff/Ratio gives SL\n",
    "\n",
    "def mytarget(barsupfront, df1):\n",
    "    length = len(df1)\n",
    "    high = list(df1['high'])\n",
    "    low = list(df1['low'])\n",
    "    close = list(df1['close'])\n",
    "    open = list(df1['open'])\n",
    "    trendcat = [None] * length\n",
    "    \n",
    "    for line in range (0,length-barsupfront-2):\n",
    "        valueOpenLow = 0\n",
    "        valueOpenHigh = 0\n",
    "        for i in range(1,barsupfront+2):\n",
    "            value1 = open[line+1]-low[line+i]\n",
    "            value2 = open[line+1]-high[line+i]\n",
    "            valueOpenLow = max(value1, valueOpenLow)\n",
    "            valueOpenHigh = min(value2, valueOpenHigh)\n",
    "\n",
    "            if ( (valueOpenLow >= pipdiff) and (-valueOpenHigh <= (pipdiff/SLTPRatio)) ):\n",
    "                trendcat[line] = 1 #-1 downtrend\n",
    "                break\n",
    "            elif ( (valueOpenLow <= (pipdiff/SLTPRatio)) and (-valueOpenHigh >= pipdiff) ):\n",
    "                trendcat[line] = 2 # uptrend\n",
    "                break\n",
    "            else:\n",
    "                trendcat[line] = 0 # no clear trend\n",
    "            \n",
    "    return trendcat"
   ]
  },
  {
   "cell_type": "code",
   "execution_count": 6,
   "metadata": {
    "scrolled": true
   },
   "outputs": [
    {
     "data": {
      "text/html": [
       "<div>\n",
       "<style scoped>\n",
       "    .dataframe tbody tr th:only-of-type {\n",
       "        vertical-align: middle;\n",
       "    }\n",
       "\n",
       "    .dataframe tbody tr th {\n",
       "        vertical-align: top;\n",
       "    }\n",
       "\n",
       "    .dataframe thead th {\n",
       "        text-align: right;\n",
       "    }\n",
       "</style>\n",
       "<table border=\"1\" class=\"dataframe\">\n",
       "  <thead>\n",
       "    <tr style=\"text-align: right;\">\n",
       "      <th></th>\n",
       "      <th>local time</th>\n",
       "      <th>open</th>\n",
       "      <th>high</th>\n",
       "      <th>low</th>\n",
       "      <th>close</th>\n",
       "      <th>volume</th>\n",
       "      <th>ATR</th>\n",
       "      <th>RSI</th>\n",
       "      <th>Average</th>\n",
       "      <th>MA40</th>\n",
       "      <th>MA80</th>\n",
       "      <th>MA160</th>\n",
       "      <th>slopeMA40</th>\n",
       "      <th>slopeMA80</th>\n",
       "      <th>slopeMA160</th>\n",
       "      <th>AverageSlope</th>\n",
       "      <th>RSISlope</th>\n",
       "      <th>mytarget</th>\n",
       "    </tr>\n",
       "  </thead>\n",
       "  <tbody>\n",
       "    <tr>\n",
       "      <th>0</th>\n",
       "      <td>05.05.2003 00:00:00.000 GMT+0300</td>\n",
       "      <td>1.34441</td>\n",
       "      <td>1.34524</td>\n",
       "      <td>1.34308</td>\n",
       "      <td>1.34346</td>\n",
       "      <td>32046.7002</td>\n",
       "      <td>NaN</td>\n",
       "      <td>NaN</td>\n",
       "      <td>1.344160</td>\n",
       "      <td>NaN</td>\n",
       "      <td>NaN</td>\n",
       "      <td>NaN</td>\n",
       "      <td>NaN</td>\n",
       "      <td>NaN</td>\n",
       "      <td>NaN</td>\n",
       "      <td>NaN</td>\n",
       "      <td>NaN</td>\n",
       "      <td>2.0</td>\n",
       "    </tr>\n",
       "    <tr>\n",
       "      <th>1</th>\n",
       "      <td>05.05.2003 04:00:00.000 GMT+0300</td>\n",
       "      <td>1.34377</td>\n",
       "      <td>1.34672</td>\n",
       "      <td>1.34353</td>\n",
       "      <td>1.34572</td>\n",
       "      <td>31066.7998</td>\n",
       "      <td>NaN</td>\n",
       "      <td>100.000000</td>\n",
       "      <td>1.345125</td>\n",
       "      <td>NaN</td>\n",
       "      <td>NaN</td>\n",
       "      <td>NaN</td>\n",
       "      <td>NaN</td>\n",
       "      <td>NaN</td>\n",
       "      <td>NaN</td>\n",
       "      <td>NaN</td>\n",
       "      <td>NaN</td>\n",
       "      <td>0.0</td>\n",
       "    </tr>\n",
       "    <tr>\n",
       "      <th>2</th>\n",
       "      <td>05.05.2003 08:00:00.000 GMT+0300</td>\n",
       "      <td>1.34581</td>\n",
       "      <td>1.34905</td>\n",
       "      <td>1.34511</td>\n",
       "      <td>1.34830</td>\n",
       "      <td>30466.1997</td>\n",
       "      <td>NaN</td>\n",
       "      <td>100.000000</td>\n",
       "      <td>1.347080</td>\n",
       "      <td>NaN</td>\n",
       "      <td>NaN</td>\n",
       "      <td>NaN</td>\n",
       "      <td>NaN</td>\n",
       "      <td>NaN</td>\n",
       "      <td>NaN</td>\n",
       "      <td>NaN</td>\n",
       "      <td>NaN</td>\n",
       "      <td>1.0</td>\n",
       "    </tr>\n",
       "    <tr>\n",
       "      <th>3</th>\n",
       "      <td>05.05.2003 12:00:00.000 GMT+0300</td>\n",
       "      <td>1.34817</td>\n",
       "      <td>1.34966</td>\n",
       "      <td>1.34670</td>\n",
       "      <td>1.34867</td>\n",
       "      <td>31758.5996</td>\n",
       "      <td>NaN</td>\n",
       "      <td>100.000000</td>\n",
       "      <td>1.348180</td>\n",
       "      <td>NaN</td>\n",
       "      <td>NaN</td>\n",
       "      <td>NaN</td>\n",
       "      <td>NaN</td>\n",
       "      <td>NaN</td>\n",
       "      <td>NaN</td>\n",
       "      <td>NaN</td>\n",
       "      <td>NaN</td>\n",
       "      <td>1.0</td>\n",
       "    </tr>\n",
       "    <tr>\n",
       "      <th>4</th>\n",
       "      <td>05.05.2003 16:00:00.000 GMT+0300</td>\n",
       "      <td>1.34855</td>\n",
       "      <td>1.34948</td>\n",
       "      <td>1.34117</td>\n",
       "      <td>1.34351</td>\n",
       "      <td>88658.6016</td>\n",
       "      <td>NaN</td>\n",
       "      <td>85.388544</td>\n",
       "      <td>1.345325</td>\n",
       "      <td>NaN</td>\n",
       "      <td>NaN</td>\n",
       "      <td>NaN</td>\n",
       "      <td>NaN</td>\n",
       "      <td>NaN</td>\n",
       "      <td>NaN</td>\n",
       "      <td>NaN</td>\n",
       "      <td>NaN</td>\n",
       "      <td>1.0</td>\n",
       "    </tr>\n",
       "  </tbody>\n",
       "</table>\n",
       "</div>"
      ],
      "text/plain": [
       "                         local time     open     high      low    close  \\\n",
       "0  05.05.2003 00:00:00.000 GMT+0300  1.34441  1.34524  1.34308  1.34346   \n",
       "1  05.05.2003 04:00:00.000 GMT+0300  1.34377  1.34672  1.34353  1.34572   \n",
       "2  05.05.2003 08:00:00.000 GMT+0300  1.34581  1.34905  1.34511  1.34830   \n",
       "3  05.05.2003 12:00:00.000 GMT+0300  1.34817  1.34966  1.34670  1.34867   \n",
       "4  05.05.2003 16:00:00.000 GMT+0300  1.34855  1.34948  1.34117  1.34351   \n",
       "\n",
       "       volume  ATR         RSI   Average  MA40  MA80  MA160  slopeMA40  \\\n",
       "0  32046.7002  NaN         NaN  1.344160   NaN   NaN    NaN        NaN   \n",
       "1  31066.7998  NaN  100.000000  1.345125   NaN   NaN    NaN        NaN   \n",
       "2  30466.1997  NaN  100.000000  1.347080   NaN   NaN    NaN        NaN   \n",
       "3  31758.5996  NaN  100.000000  1.348180   NaN   NaN    NaN        NaN   \n",
       "4  88658.6016  NaN   85.388544  1.345325   NaN   NaN    NaN        NaN   \n",
       "\n",
       "   slopeMA80  slopeMA160  AverageSlope  RSISlope  mytarget  \n",
       "0        NaN         NaN           NaN       NaN       2.0  \n",
       "1        NaN         NaN           NaN       NaN       0.0  \n",
       "2        NaN         NaN           NaN       NaN       1.0  \n",
       "3        NaN         NaN           NaN       NaN       1.0  \n",
       "4        NaN         NaN           NaN       NaN       1.0  "
      ]
     },
     "execution_count": 6,
     "metadata": {},
     "output_type": "execute_result"
    }
   ],
   "source": [
    "# mytarget(barsfront to take into account, dataframe)\n",
    "df['mytarget'] = mytarget(16, df)\n",
    "df.head()"
   ]
  },
  {
   "cell_type": "markdown",
   "metadata": {},
   "source": [
    "# Quick analysis example"
   ]
  },
  {
   "cell_type": "code",
   "execution_count": 7,
   "metadata": {},
   "outputs": [
    {
     "name": "stderr",
     "output_type": "stream",
     "text": [
      "D:\\ProgramFiles\\Anaconda3\\lib\\site-packages\\IPython\\core\\interactiveshell.py:3325: UserWarning: To output multiple subplots, the figure containing the passed axes is being cleared\n",
      "  exec(code_obj, self.user_global_ns, self.user_ns)\n"
     ]
    },
    {
     "data": {
      "text/plain": [
       "<Figure size 1500x2000 with 16 Axes>"
      ]
     },
     "metadata": {},
     "output_type": "display_data"
    }
   ],
   "source": [
    "import matplotlib.pyplot as plt\n",
    "fig = plt.figure(figsize = (15,20))\n",
    "ax = fig.gca()\n",
    "df_model= df[['volume', 'ATR', 'RSI', 'Average', 'MA40', 'MA80', 'MA160', 'slopeMA40', 'slopeMA80', 'slopeMA160', 'AverageSlope', 'RSISlope', 'mytarget']] \n",
    "df_model.hist(ax = ax)\n",
    "plt.show()"
   ]
  },
  {
   "cell_type": "markdown",
   "metadata": {},
   "source": [
    "## Can we use the RSI alone as a trend indicator?"
   ]
  },
  {
   "cell_type": "code",
   "execution_count": 8,
   "metadata": {},
   "outputs": [
    {
     "data": {
      "image/png": "[encoded data removed]",
      "text/plain": [
       "<Figure size 432x288 with 1 Axes>"
      ]
     },
     "metadata": {
      "needs_background": "light"
     },
     "output_type": "display_data"
    }
   ],
   "source": [
    "from matplotlib import pyplot\n",
    "df_up=df.RSI[ df['mytarget'] == 2 ]\n",
    "df_down=df.RSI[ df['mytarget'] == 1 ]\n",
    "df_unclear=df.RSI[ df['mytarget'] == 0 ]\n",
    "pyplot.hist(df_unclear, bins=100, alpha=0.5, label='unclear')\n",
    "pyplot.hist(df_down, bins=100, alpha=0.5, label='down')\n",
    "pyplot.hist(df_up, bins=100, alpha=0.5, label='up')\n",
    "\n",
    "pyplot.legend(loc='upper right')\n",
    "pyplot.show()"
   ]
  },
  {
   "cell_type": "markdown",
   "metadata": {},
   "source": [
    "# Machine learning for trend prediction"
   ]
  },
  {
   "cell_type": "markdown",
   "metadata": {},
   "source": [
    "## 1 - the perfect model with precise prediction"
   ]
  },
  {
   "cell_type": "markdown",
   "metadata": {},
   "source": [
    "## 2 - less perfect model still with > 40% precision"
   ]
  },
  {
   "cell_type": "markdown",
   "metadata": {},
   "source": [
    "## 3 - much less perfect model with precision >35% taking into account our strategy, and our TP/SL ratio "
   ]
  },
  {
   "cell_type": "markdown",
   "metadata": {},
   "source": [
    "### can't let an automated program run your trades\n",
    "### it can be your version of a smart indicator (based on machine learning)\n",
    "\n",
    "## 4 - Our target has categorical values so we need a classificator, KNN?"
   ]
  },
  {
   "cell_type": "markdown",
   "metadata": {},
   "source": [
    "## Splitting features and target"
   ]
  },
  {
   "cell_type": "code",
   "execution_count": 9,
   "metadata": {},
   "outputs": [
    {
     "name": "stdout",
     "output_type": "stream",
     "text": [
      "            ATR        RSI   Average      MA40      MA80     MA160  \\\n",
      "165    0.006321  50.876415  1.313050  1.312169  1.302708  1.306960   \n",
      "166    0.006406  43.994471  1.310755  1.312348  1.302841  1.306746   \n",
      "167    0.006344  41.478731  1.306645  1.312455  1.302940  1.306521   \n",
      "168    0.006266  46.698530  1.307270  1.312705  1.303175  1.306312   \n",
      "169    0.006115  45.348314  1.308240  1.312863  1.303375  1.306131   \n",
      "170    0.005947  44.700601  1.308155  1.312808  1.303620  1.305963   \n",
      "171    0.005983  39.026832  1.305590  1.312550  1.303757  1.305768   \n",
      "172    0.006127  47.833606  1.305450  1.312527  1.303984  1.305674   \n",
      "173    0.006184  48.919943  1.312225  1.312492  1.304235  1.305578   \n",
      "174    0.006014  50.288687  1.310430  1.312488  1.304473  1.305487   \n",
      "175    0.005832  48.686060  1.310015  1.312508  1.304755  1.305367   \n",
      "176    0.005642  50.417244  1.310315  1.312471  1.305056  1.305274   \n",
      "177    0.005650  48.770988  1.311380  1.312413  1.305343  1.305172   \n",
      "178    0.005837  57.639530  1.314265  1.312429  1.305760  1.305145   \n",
      "179    0.006311  43.732495  1.310965  1.312084  1.305999  1.305023   \n",
      "180    0.006494  38.908000  1.300495  1.311596  1.306187  1.304841   \n",
      "181    0.006273  37.537882  1.297130  1.311118  1.306324  1.304655   \n",
      "182    0.006205  42.151850  1.297970  1.310751  1.306497  1.304554   \n",
      "183    0.006315  38.202053  1.298620  1.310693  1.306592  1.304417   \n",
      "184    0.006266  41.870129  1.296540  1.310637  1.306744  1.304331   \n",
      "185    0.006212  43.739203  1.300935  1.310595  1.306850  1.304268   \n",
      "186    0.006128  47.520358  1.302290  1.310652  1.306912  1.304218   \n",
      "187    0.005958  48.283475  1.305185  1.310661  1.306992  1.304175   \n",
      "188    0.005785  46.739695  1.303980  1.310574  1.307095  1.304106   \n",
      "189    0.005690  44.938804  1.301535  1.310009  1.307150  1.304041   \n",
      "190    0.005754  50.977464  1.303570  1.309683  1.307254  1.304003   \n",
      "191    0.005792  48.777748  1.305655  1.309303  1.307255  1.303989   \n",
      "192    0.005736  52.230511  1.306140  1.309026  1.307360  1.304002   \n",
      "193    0.005586  52.416273  1.308210  1.308648  1.307580  1.304039   \n",
      "194    0.005459  52.042833  1.308110  1.308383  1.307855  1.304054   \n",
      "...         ...        ...       ...       ...       ...       ...   \n",
      "25772  0.002551  45.398475  0.992965  0.996418  0.993649  0.992026   \n",
      "25773  0.002460  46.879452  0.993485  0.996344  0.993657  0.992039   \n",
      "25774  0.002468  45.937123  0.992950  0.996234  0.993672  0.992062   \n",
      "25775  0.002478  49.810449  0.994230  0.996152  0.993713  0.992085   \n",
      "25776  0.002485  53.233391  0.995120  0.996095  0.993774  0.992111   \n",
      "25777  0.002418  53.233391  0.995740  0.996014  0.993825  0.992133   \n",
      "25778  0.002495  49.602533  0.994330  0.995864  0.993851  0.992157   \n",
      "25779  0.002420  50.141152  0.994930  0.995728  0.993899  0.992189   \n",
      "25780  0.002483  41.852946  0.993375  0.995686  0.993903  0.992220   \n",
      "25781  0.002482  46.136010  0.992720  0.995682  0.993928  0.992258   \n",
      "25782  0.002571  52.597757  0.995205  0.995760  0.994002  0.992315   \n",
      "25783  0.002552  56.270890  0.996235  0.995852  0.994073  0.992377   \n",
      "25784  0.002499  55.014072  0.996575  0.995780  0.994161  0.992443   \n",
      "25785  0.002428  56.996943  0.997110  0.995707  0.994255  0.992525   \n",
      "25786  0.002428  60.075736  0.997760  0.995753  0.994359  0.992634   \n",
      "25787  0.002430  60.452005  0.997895  0.995803  0.994459  0.992747   \n",
      "25788  0.002468  51.762376  0.997495  0.995799  0.994531  0.992841   \n",
      "25789  0.002439  54.277315  0.997220  0.995784  0.994647  0.992926   \n",
      "25790  0.002428  54.835017  0.998125  0.995747  0.994802  0.993018   \n",
      "25791  0.002402  49.728723  0.996605  0.995634  0.994927  0.993094   \n",
      "25792  0.002415  51.060404  0.996595  0.995595  0.995051  0.993155   \n",
      "25793  0.002399  51.549338  0.995540  0.995516  0.995165  0.993220   \n",
      "25794  0.002383  53.478969  0.996935  0.995483  0.995309  0.993286   \n",
      "25795  0.002334  55.646344  0.997275  0.995438  0.995443  0.993352   \n",
      "25796  0.002282  53.611003  0.997650  0.995445  0.995516  0.993404   \n",
      "25797  0.002228  51.988644  0.997020  0.995456  0.995573  0.993451   \n",
      "25798  0.002275  58.143097  0.998065  0.995547  0.995663  0.993521   \n",
      "25799  0.002255  53.507616  0.997840  0.995588  0.995746  0.993582   \n",
      "25800  0.002243  57.028991  0.998205  0.995692  0.995809  0.993641   \n",
      "25801  0.002177  57.640749  0.998905  0.995767  0.995886  0.993702   \n",
      "\n",
      "          slopeMA40  slopeMA80  slopeMA160  AverageSlope  RSISlope  \n",
      "165    2.590857e-04   0.000268   -0.000191     -0.000639 -1.197626  \n",
      "166    2.459357e-04   0.000237   -0.000200     -0.001167 -2.192503  \n",
      "167    2.297143e-04   0.000191   -0.000207     -0.001826 -2.601241  \n",
      "168    2.211357e-04   0.000170   -0.000210     -0.002127 -2.043677  \n",
      "169    2.083571e-04   0.000168   -0.000207     -0.001577 -1.150150  \n",
      "170    1.425714e-04   0.000183   -0.000201     -0.000897 -0.617078  \n",
      "171    6.370714e-05   0.000195   -0.000193     -0.000581 -0.472080  \n",
      "172   -4.500000e-06   0.000206   -0.000172     -0.000317  0.231759  \n",
      "173   -6.648571e-05   0.000207   -0.000150      0.000395  0.368262  \n",
      "174   -8.130714e-05   0.000216   -0.000128      0.000658  1.319047  \n",
      "175   -4.928571e-05   0.000231   -0.000112      0.000874  1.565691  \n",
      "176   -1.309286e-05   0.000259   -0.000100      0.001015  1.739376  \n",
      "177   -1.750000e-05   0.000273   -0.000101      0.000672  0.216462  \n",
      "178   -1.647857e-05   0.000301   -0.000092      0.000381  1.165029  \n",
      "179   -6.614286e-05   0.000312   -0.000088      0.000471 -0.216194  \n",
      "180   -1.629571e-04   0.000297   -0.000097     -0.001222 -1.716457  \n",
      "181   -2.731143e-04   0.000260   -0.000120     -0.002911 -3.082652  \n",
      "182   -3.637571e-04   0.000219   -0.000136     -0.003684 -2.806432  \n",
      "183   -3.759143e-04   0.000166   -0.000150     -0.003445 -2.951413  \n",
      "184   -2.945500e-04   0.000146   -0.000138     -0.002197 -0.194734  \n",
      "185   -1.859214e-04   0.000133   -0.000114      0.000031  0.948656  \n",
      "186   -8.150714e-05   0.000119   -0.000089      0.000932  1.666929  \n",
      "187   -1.757143e-05   0.000101   -0.000073      0.001471  1.728060  \n",
      "188   -1.342143e-05   0.000095   -0.000059      0.001545  1.877412  \n",
      "189   -9.137143e-05   0.000081   -0.000057      0.001057  0.717371  \n",
      "190   -1.879429e-04   0.000081   -0.000055      0.000277  0.768653  \n",
      "191   -2.926500e-04   0.000073   -0.000049      0.000272  0.359087  \n",
      "192   -3.516643e-04   0.000069   -0.000036      0.000338  0.911086  \n",
      "193   -3.701143e-04   0.000087   -0.000013      0.001059  1.373094  \n",
      "194   -3.288571e-04   0.000132    0.000005      0.001351  1.236838  \n",
      "...             ...        ...         ...           ...       ...  \n",
      "25772  4.378571e-05  -0.000010    0.000017     -0.000269  0.180784  \n",
      "25773  2.571429e-05   0.000006    0.000018      0.000114  1.320881  \n",
      "25774 -5.714286e-06   0.000015    0.000019      0.000202  0.880365  \n",
      "25775 -4.649286e-05   0.000014    0.000018      0.000134  0.290746  \n",
      "25776 -7.135714e-05   0.000024    0.000020      0.000267  1.423860  \n",
      "25777 -8.142143e-05   0.000036    0.000022      0.000573  1.774563  \n",
      "25778 -8.902143e-05   0.000043    0.000024      0.000385  1.112204  \n",
      "25779 -9.922857e-05   0.000046    0.000025      0.000309  0.582754  \n",
      "25780 -1.023071e-04   0.000039    0.000027     -0.000179 -1.505574  \n",
      "25781 -9.097143e-05   0.000030    0.000029     -0.000528 -1.973989  \n",
      "25782 -5.317143e-05   0.000032    0.000035     -0.000259 -0.624741  \n",
      "25783  9.214286e-07   0.000041    0.000043      0.000277  1.285562  \n",
      "25784  2.395000e-05   0.000054    0.000051      0.000551  2.116576  \n",
      "25785  1.399286e-05   0.000072    0.000061      0.000893  3.029352  \n",
      "25786  3.564286e-06   0.000086    0.000074      0.000893  2.332553  \n",
      "25787 -4.364286e-06   0.000092    0.000086      0.000530  1.504819  \n",
      "25788 -4.314286e-06   0.000094    0.000095      0.000312 -0.089999  \n",
      "25789  9.971429e-06   0.000096    0.000099      0.000129 -0.543178  \n",
      "25790  8.250000e-06   0.000105    0.000098      0.000087 -1.054129  \n",
      "25791 -2.225714e-05   0.000114    0.000091     -0.000153 -1.887745  \n",
      "25792 -4.485714e-05   0.000123    0.000083     -0.000236 -1.500036  \n",
      "25793 -5.976429e-05   0.000129    0.000076     -0.000376 -0.452063  \n",
      "25794 -6.395714e-05   0.000129    0.000070     -0.000263 -0.357631  \n",
      "25795 -5.933571e-05   0.000128    0.000066     -0.000123  0.451323  \n",
      "25796 -4.155000e-05   0.000122    0.000063      0.000247  1.002824  \n",
      "25797 -2.738571e-05   0.000108    0.000060      0.000251  0.371245  \n",
      "25798  2.300000e-06   0.000096    0.000059      0.000379  0.756071  \n",
      "25799  2.478571e-05   0.000083    0.000058      0.000179  0.171747  \n",
      "25800  5.126429e-05   0.000075    0.000059      0.000179  0.364501  \n",
      "25801  6.750000e-05   0.000075    0.000061      0.000274  0.875266  \n",
      "\n",
      "[25529 rows x 11 columns]\n"
     ]
    }
   ],
   "source": [
    "df_model=df_model.dropna()\n",
    "\n",
    "attributes=['ATR', 'RSI', 'Average', 'MA40', 'MA80', 'MA160', 'slopeMA40', 'slopeMA80', 'slopeMA160', 'AverageSlope', 'RSISlope']\n",
    "X = df_model[attributes]\n",
    "y = df_model[\"mytarget\"]\n",
    "\n",
    "print(X)"
   ]
  },
  {
   "cell_type": "code",
   "execution_count": 10,
   "metadata": {},
   "outputs": [],
   "source": [
    "from sklearn.model_selection import train_test_split\n",
    "X_train, X_test, y_train, y_test = train_test_split(X, y, test_size=0.2, random_state=1)"
   ]
  },
  {
   "cell_type": "markdown",
   "metadata": {},
   "source": [
    "## Fitting the KNN model"
   ]
  },
  {
   "cell_type": "code",
   "execution_count": 16,
   "metadata": {},
   "outputs": [],
   "source": [
    "from sklearn.neighbors import KNeighborsClassifier\n",
    "\n",
    "model = KNeighborsClassifier(n_neighbors=200, weights='uniform', algorithm='kd_tree', leaf_size=30, p=1, metric='minkowski', metric_params=None, n_jobs=1)\n",
    "model.fit(X_train, y_train)\n",
    "\n",
    "y_pred_train = model.predict(X_train)\n",
    "y_pred_test = model.predict(X_test)"
   ]
  },
  {
   "cell_type": "markdown",
   "metadata": {},
   "source": [
    "## Quick evaluation of our fitting"
   ]
  },
  {
   "cell_type": "code",
   "execution_count": 17,
   "metadata": {},
   "outputs": [
    {
     "name": "stdout",
     "output_type": "stream",
     "text": [
      "Accuracy train: 39.33%\n",
      "Accuracy test: 35.37%\n",
      "0.0    36.777782\n",
      "1.0    32.167339\n",
      "2.0    31.054879\n",
      "Name: mytarget, dtype: float64\n",
      "Accuracy Gambler: 32.82%\n"
     ]
    }
   ],
   "source": [
    "from sklearn.metrics import accuracy_score\n",
    "accuracy_train = accuracy_score(y_train, y_pred_train)\n",
    "accuracy_test = accuracy_score(y_test, y_pred_test)\n",
    "print(\"Accuracy train: %.2f%%\" % (accuracy_train * 100.0))\n",
    "print(\"Accuracy test: %.2f%%\" % (accuracy_test * 100.0))\n",
    "\n",
    "#------------------------------------------------------------------\n",
    "#--- How should I compare my accuracy ?\n",
    "print(df_model['mytarget'].value_counts()*100/df_model['mytarget'].count())\n",
    "\n",
    "# Random Model, gambler?\n",
    "pred_test = np.random.choice([0, 1, 2], len(y_pred_test))\n",
    "accuracy_test = accuracy_score(y_test, pred_test)\n",
    "print(\"Accuracy Gambler: %.2f%%\" % (accuracy_test * 100.0))"
   ]
  },
  {
   "cell_type": "markdown",
   "metadata": {},
   "source": [
    "## More powerful model XGBoost"
   ]
  },
  {
   "cell_type": "code",
   "execution_count": 13,
   "metadata": {},
   "outputs": [
    {
     "name": "stdout",
     "output_type": "stream",
     "text": [
      "****Train Results****\n",
      "Accuracy: 46.4427%\n",
      "****Test Results****\n",
      "Accuracy: 38.7192%\n"
     ]
    }
   ],
   "source": [
    "from xgboost import XGBClassifier\n",
    "model = XGBClassifier()\n",
    "model.fit(X_train, y_train)\n",
    "pred_train = model.predict(X_train)\n",
    "pred_test = model.predict(X_test)\n",
    "acc_train = accuracy_score(y_train, pred_train)\n",
    "acc_test = accuracy_score(y_test, pred_test)\n",
    "print('****Train Results****')\n",
    "print(\"Accuracy: {:.4%}\".format(acc_train))\n",
    "print('****Test Results****')\n",
    "print(\"Accuracy: {:.4%}\".format(acc_test))"
   ]
  },
  {
   "cell_type": "markdown",
   "metadata": {},
   "source": [
    "## !!Data sampling shouldn't be random"
   ]
  },
  {
   "cell_type": "code",
   "execution_count": 14,
   "metadata": {},
   "outputs": [
    {
     "name": "stdout",
     "output_type": "stream",
     "text": [
      "****Train Results****\n",
      "Accuracy: 45.8013%\n",
      "****Test Results****\n",
      "Accuracy: 34.8805%\n"
     ]
    }
   ],
   "source": [
    "#random sampling\n",
    "#X_train, X_test, y_train, y_test = train_test_split(X, y, test_size=0.2, random_state=10)\n",
    "\n",
    "#sequential sampling\n",
    "train_index = int(0.8 * len(X))\n",
    "X_train, X_test = X[:train_index], X[train_index:]\n",
    "y_train, y_test = y[:train_index], y[train_index:]\n",
    "\n",
    "model = XGBClassifier()\n",
    "model.fit(X_train, y_train)\n",
    "pred_train = model.predict(X_train)\n",
    "pred_test = model.predict(X_test)\n",
    "acc_train = accuracy_score(y_train, pred_train)\n",
    "acc_test = accuracy_score(y_test, pred_test)\n",
    "print('****Train Results****')\n",
    "print(\"Accuracy: {:.4%}\".format(acc_train))\n",
    "print('****Test Results****')\n",
    "print(\"Accuracy: {:.4%}\".format(acc_test))"
   ]
  },
  {
   "cell_type": "markdown",
   "metadata": {},
   "source": [
    "## Which features are most important for our model?"
   ]
  },
  {
   "cell_type": "code",
   "execution_count": 15,
   "metadata": {},
   "outputs": [
    {
     "data": {
      "image/png": "[encoded data removed]",
      "text/plain": [
       "<Figure size 432x288 with 1 Axes>"
      ]
     },
     "metadata": {
      "needs_background": "light"
     },
     "output_type": "display_data"
    }
   ],
   "source": [
    "from matplotlib import pyplot\n",
    "from xgboost import plot_importance\n",
    "#plot feature importance\n",
    "plot_importance(model)\n",
    "pyplot.show()"
   ]
  },
  {
   "cell_type": "markdown",
   "metadata": {},
   "source": [
    "# Automated orders using python and Machine Learning\n",
    "## Previous videos\n",
    "### 1 - Install Anaconda, Jupyter NB, Pandas_TA (Technical Analysis)\n",
    "### 2 - Download price data from online resources, and add our technical indicators to our exchange price dataframe\n",
    "### 3 - Fit a Machine learning model and predict future price trends using KNN and XGBOOST classifiers\n",
    "### 4 - Save and Load a ML model,\n",
    "### - according to the model's advice\n",
    "### - passing orders (sell/buy) automatically\n",
    "### - send an email notification about newly applied trading operations"
   ]
  },
  {
   "cell_type": "markdown",
   "metadata": {},
   "source": [
    "## Load Machine Learning Model from Disk and Test it"
   ]
  },
  {
   "cell_type": "code",
   "execution_count": 19,
   "metadata": {},
   "outputs": [],
   "source": [
    "import joblib\n",
    "\n",
    "# save your ML model to disk\n",
    "filename = 'mymodel1.sav'\n",
    "joblib.dump(model, filename)\n",
    "\n",
    "#load the model from disk\n",
    "loaded_model = joblib.load('mymodel1.sav')"
   ]
  },
  {
   "cell_type": "markdown",
   "metadata": {},
   "source": [
    "## Live Automated Orders with email notification"
   ]
  },
  {
   "cell_type": "code",
   "execution_count": 32,
   "metadata": {},
   "outputs": [],
   "source": [
    "from apscheduler.schedulers.blocking import BlockingScheduler\n",
    "import json\n",
    "from oandapyV20 import API\n",
    "import oandapyV20.endpoints.orders as orders\n",
    "from oandapyV20.contrib.requests import MarketOrderRequest\n",
    "from oanda_candles import Pair, Gran, CandleCollector\n",
    "from oandapyV20.contrib.requests import TakeProfitDetails, StopLossDetails\n",
    "\n",
    "\n",
    "import smtplib\n",
    "gmail_user = 'email@gmail.com'\n",
    "gmail_password = 'email password here'\n",
    "sent_from = gmail_user\n",
    "to = ['email@gmail.com']\n",
    "subject = 'info CHF'\n"
   ]
  },
  {
   "cell_type": "code",
   "execution_count": 30,
   "metadata": {},
   "outputs": [],
   "source": [
    "ModelPrediction = 0\n",
    "def some_job():\n",
    "    access_token=\"INSERT TOKEN HERE, YOU GET IT FROM YOUR OANDA ACCOUNT\"\n",
    "    collector = CandleCollector(access_token, Pair.USD_CHF, Gran.H4)\n",
    "    candles = collector.grab(2*161)\n",
    "\n",
    "    dfstream = pd.DataFrame(columns=['Open','Close','High','Low'])\n",
    "    i=0\n",
    "    for candle in candles:\n",
    "        dfstream.loc[i, ['Open']] = float(str(candle.bid.o))\n",
    "        dfstream.loc[i, ['Close']] = float(str(candle.bid.c))\n",
    "        dfstream.loc[i, ['High']] = float(str(candle.bid.h))\n",
    "        dfstream.loc[i, ['Low']] = float(str(candle.bid.l))\n",
    "        i=i+1\n",
    "\n",
    "    dfstream['Open'] = dfstream['Open'].astype(float)\n",
    "    dfstream['Close'] = dfstream['Close'].astype(float)\n",
    "    dfstream['High'] = dfstream['High'].astype(float)\n",
    "    dfstream['Low'] = dfstream['Low'].astype(float)\n",
    "\n",
    "    #dfstream['Average'] = (dfstream['High']+dfstream['Low'])/2\n",
    "    #dfstream['MA40'] = dfstream['Open'].rolling(window=40).mean()\n",
    "    #dfstream['MA80'] = dfstream['Open'].rolling(window=80).mean()\n",
    "    #dfstream['MA160'] = dfstream['Open'].rolling(window=160).mean()\n",
    "    \n",
    "    import numpy as np\n",
    "    import pandas_ta as ta\n",
    "    #attributes=['ATR', 'RSI', 'Average', \n",
    "    #'MA40', 'MA80', 'MA160', 'slopeMA40', \n",
    "    #'slopeMA80', 'slopeMA160', 'AverageSlope', 'RSISlope']\n",
    "    dfstream['ATR'] = dfstream.ta.atr(length=20)\n",
    "    dfstream['RSI'] = dfstream.ta.rsi()\n",
    "    dfstream['Average'] = dfstream.ta.midprice(length=1) #midprice\n",
    "    dfstream['MA40'] = dfstream.ta.sma(length=40)\n",
    "    dfstream['MA80'] = dfstream.ta.sma(length=80)\n",
    "    dfstream['MA160'] = dfstream.ta.sma(length=160)\n",
    "\n",
    "#from scipy.stats import linregress\n",
    "#def get_slope(array):\n",
    "#    y = np.array(array)\n",
    "#    x = np.arange(len(y))\n",
    "#    slope, intercept, r_value, p_value, std_err = linregress(x,y)\n",
    "#    return slope\n",
    "\n",
    "    #!!!!!!!!!!!!!!!!!!!!!!!!!!!!!\n",
    "    backrollingN = 6\n",
    "    #!!!!!!!!!!!!!!!!!!!!!!!!!!!!!\n",
    "    dfstream['slopeMA40'] = dfstream['MA40'].rolling(window=backrollingN).apply(get_slope, raw=True)\n",
    "    dfstream['slopeMA80'] = dfstream['MA80'].rolling(window=backrollingN).apply(get_slope, raw=True)\n",
    "    dfstream['slopeMA160'] = dfstream['MA160'].rolling(window=backrollingN).apply(get_slope, raw=True)\n",
    "    dfstream['AverageSlope'] = dfstream['Average'].rolling(window=backrollingN).apply(get_slope, raw=True)\n",
    "    dfstream['RSISlope'] = dfstream['RSI'].rolling(window=backrollingN).apply(get_slope, raw=True)\n",
    "\n",
    "    #________________________________________________________________________________________________\n",
    "    X_stream = dfstream.iloc[[320]]# !!! Index takes last CLOSED candle\n",
    "    #attributes=['ATR', 'RSI', 'Average', 'MA40', 'MA80', 'MA160', \n",
    "    #'slopeMA40', 'slopeMA80', 'slopeMA160', 'AverageSlope', 'RSISlope']\n",
    "    X_model = X_stream[attributes]\n",
    "    \n",
    "    # Apply the model for predictions\n",
    "    ModelPrediction = loaded_model.predict(X_model)\n",
    "  \n",
    "    msg = str(ModelPrediction) # 0 no clear trend, 1 downtrend, 2 uptrend\n",
    "    #------------------------------------\n",
    "    # send email with \n",
    "    server = smtplib.SMTP_SSL('smtp.gmail.com', 465)\n",
    "    server.ehlo()\n",
    "    server.login(gmail_user, gmail_password)\n",
    "    server.sendmail(sent_from, to, msg)\n",
    "    server.close()\n",
    "    #________________________________________________________________________________________________\n",
    "    \n",
    "    \n",
    "    # EXECUTING ORDERS\n",
    "    accountID = \"1432-432-0000\" #use your account ID\n",
    "    client = API(access_token)\n",
    "\n",
    "    candles = collector.grab(1)\n",
    "#    for candle in candles:\n",
    "#        print(candle.bid.o)\n",
    "#        print(candle.bid.c)\n",
    "    \n",
    "    pipdiff = 500*1e-5 #for TP\n",
    "    SLTPRatio = 2 #pipdiff/Ratio gives SL\n",
    "    \n",
    "    TPBuy = float(str(candle.bid.o))+pipdiff\n",
    "    SLBuy = float(str(candle.bid.o))-(pipdiff/SLTPRatio)\n",
    "    TPSell = float(str(candle.bid.o))-pipdiff\n",
    "    SLSell = float(str(candle.bid.o))+(pipdiff/SLTPRatio)\n",
    "    \n",
    "    #Sell\n",
    "    if ModelPrediction == 1:\n",
    "        mo = MarketOrderRequest(instrument=\"USD_CHF\", units=-1000, takeProfitOnFill=TakeProfitDetails(price=TPSell).data, stopLossOnFill=StopLossDetails(price=SLSell).data)\n",
    "        r = orders.OrderCreate(accountID, data=mo.data)\n",
    "        rv = client.request(r)\n",
    "        print(rv)\n",
    "    #Buy\n",
    "    elif ModelPrediction == 2:\n",
    "        mo = MarketOrderRequest(instrument=\"USD_CHF\", units=1000, takeProfitOnFill=TakeProfitDetails(price=TPBuy).data, stopLossOnFill=StopLossDetails(price=SLBuy).data)\n",
    "        r = orders.OrderCreate(accountID, data=mo.data)\n",
    "        rv = client.request(r)\n",
    "        print(rv)"
   ]
  },
  {
   "cell_type": "markdown",
   "metadata": {},
   "source": [
    "## Executing orders automatically every 4 Hours"
   ]
  },
  {
   "cell_type": "code",
   "execution_count": 33,
   "metadata": {},
   "outputs": [
    {
     "ename": "V20Error",
     "evalue": "{\"errorMessage\":\"Insufficient authorization to perform request.\"}",
     "output_type": "error",
     "traceback": [
      "\u001b[1;31m---------------------------------------------------------------------------\u001b[0m",
      "\u001b[1;31mV20Error\u001b[0m                                  Traceback (most recent call last)",
      "\u001b[1;32m<ipython-input-33-ac0b1cae4e96>\u001b[0m in \u001b[0;36m<module>\u001b[1;34m\u001b[0m\n\u001b[1;32m----> 1\u001b[1;33m \u001b[0msome_job\u001b[0m\u001b[1;33m(\u001b[0m\u001b[1;33m)\u001b[0m\u001b[1;33m\u001b[0m\u001b[1;33m\u001b[0m\u001b[0m\n\u001b[0m\u001b[0;32m      2\u001b[0m \u001b[1;33m\u001b[0m\u001b[0m\n\u001b[0;32m      3\u001b[0m \u001b[1;31m###################################################################\u001b[0m\u001b[1;33m\u001b[0m\u001b[1;33m\u001b[0m\u001b[1;33m\u001b[0m\u001b[0m\n\u001b[0;32m      4\u001b[0m \u001b[1;31m## Interval time job ##############################################\u001b[0m\u001b[1;33m\u001b[0m\u001b[1;33m\u001b[0m\u001b[1;33m\u001b[0m\u001b[0m\n\u001b[0;32m      5\u001b[0m \u001b[0mscheduler\u001b[0m \u001b[1;33m=\u001b[0m \u001b[0mBlockingScheduler\u001b[0m\u001b[1;33m(\u001b[0m\u001b[0mjob_defaults\u001b[0m\u001b[1;33m=\u001b[0m\u001b[1;33m{\u001b[0m\u001b[1;34m'misfire_grace_time'\u001b[0m\u001b[1;33m:\u001b[0m \u001b[1;36m15\u001b[0m\u001b[1;33m*\u001b[0m\u001b[1;36m60\u001b[0m\u001b[1;33m}\u001b[0m\u001b[1;33m)\u001b[0m\u001b[1;33m\u001b[0m\u001b[1;33m\u001b[0m\u001b[0m\n",
      "\u001b[1;32m<ipython-input-30-3e517afe6cb6>\u001b[0m in \u001b[0;36msome_job\u001b[1;34m()\u001b[0m\n\u001b[0;32m      2\u001b[0m \u001b[1;32mdef\u001b[0m \u001b[0msome_job\u001b[0m\u001b[1;33m(\u001b[0m\u001b[1;33m)\u001b[0m\u001b[1;33m:\u001b[0m\u001b[1;33m\u001b[0m\u001b[1;33m\u001b[0m\u001b[0m\n\u001b[0;32m      3\u001b[0m     \u001b[0maccess_token\u001b[0m\u001b[1;33m=\u001b[0m\u001b[1;34m\"INSERT TOKEN HERE, YOU GET IT FROM YOUR OANDA ACCOUNT\"\u001b[0m\u001b[1;33m\u001b[0m\u001b[1;33m\u001b[0m\u001b[0m\n\u001b[1;32m----> 4\u001b[1;33m     \u001b[0mcollector\u001b[0m \u001b[1;33m=\u001b[0m \u001b[0mCandleCollector\u001b[0m\u001b[1;33m(\u001b[0m\u001b[0maccess_token\u001b[0m\u001b[1;33m,\u001b[0m \u001b[0mPair\u001b[0m\u001b[1;33m.\u001b[0m\u001b[0mUSD_CHF\u001b[0m\u001b[1;33m,\u001b[0m \u001b[0mGran\u001b[0m\u001b[1;33m.\u001b[0m\u001b[0mH4\u001b[0m\u001b[1;33m)\u001b[0m\u001b[1;33m\u001b[0m\u001b[1;33m\u001b[0m\u001b[0m\n\u001b[0m\u001b[0;32m      5\u001b[0m     \u001b[0mcandles\u001b[0m \u001b[1;33m=\u001b[0m \u001b[0mcollector\u001b[0m\u001b[1;33m.\u001b[0m\u001b[0mgrab\u001b[0m\u001b[1;33m(\u001b[0m\u001b[1;36m2\u001b[0m\u001b[1;33m*\u001b[0m\u001b[1;36m161\u001b[0m\u001b[1;33m)\u001b[0m\u001b[1;33m\u001b[0m\u001b[1;33m\u001b[0m\u001b[0m\n\u001b[0;32m      6\u001b[0m \u001b[1;33m\u001b[0m\u001b[0m\n",
      "\u001b[1;32mD:\\ProgramFiles\\Anaconda3\\lib\\site-packages\\oanda_candles\\candle_collector.py\u001b[0m in \u001b[0;36m__init__\u001b[1;34m(self, token, pair, gran)\u001b[0m\n\u001b[0;32m     25\u001b[0m         \u001b[1;31m# Set _low and _high prices to that of first candle then load candles\u001b[0m\u001b[1;33m\u001b[0m\u001b[1;33m\u001b[0m\u001b[1;33m\u001b[0m\u001b[0m\n\u001b[0;32m     26\u001b[0m         \u001b[1;31m# by using extend method (which will adjust low and high from there).\u001b[0m\u001b[1;33m\u001b[0m\u001b[1;33m\u001b[0m\u001b[1;33m\u001b[0m\u001b[0m\n\u001b[1;32m---> 27\u001b[1;33m         \u001b[0msequence\u001b[0m \u001b[1;33m=\u001b[0m \u001b[0mself\u001b[0m\u001b[1;33m.\u001b[0m\u001b[0mrequester\u001b[0m\u001b[1;33m.\u001b[0m\u001b[0mrequest\u001b[0m\u001b[1;33m(\u001b[0m\u001b[0mcount\u001b[0m\u001b[1;33m=\u001b[0m\u001b[1;36m500\u001b[0m\u001b[1;33m)\u001b[0m\u001b[1;33m\u001b[0m\u001b[1;33m\u001b[0m\u001b[0m\n\u001b[0m\u001b[0;32m     28\u001b[0m         \u001b[0mself\u001b[0m\u001b[1;33m.\u001b[0m\u001b[0m_low\u001b[0m\u001b[1;33m:\u001b[0m \u001b[0mPrice\u001b[0m \u001b[1;33m=\u001b[0m \u001b[0msequence\u001b[0m\u001b[1;33m.\u001b[0m\u001b[0mfirst\u001b[0m\u001b[1;33m.\u001b[0m\u001b[0mbid\u001b[0m\u001b[1;33m.\u001b[0m\u001b[0ml\u001b[0m\u001b[1;33m\u001b[0m\u001b[1;33m\u001b[0m\u001b[0m\n\u001b[0;32m     29\u001b[0m         \u001b[0mself\u001b[0m\u001b[1;33m.\u001b[0m\u001b[0m_high\u001b[0m\u001b[1;33m:\u001b[0m \u001b[0mPrice\u001b[0m \u001b[1;33m=\u001b[0m \u001b[0msequence\u001b[0m\u001b[1;33m.\u001b[0m\u001b[0mfirst\u001b[0m\u001b[1;33m.\u001b[0m\u001b[0mask\u001b[0m\u001b[1;33m.\u001b[0m\u001b[0mh\u001b[0m\u001b[1;33m\u001b[0m\u001b[1;33m\u001b[0m\u001b[0m\n",
      "\u001b[1;32mD:\\ProgramFiles\\Anaconda3\\lib\\site-packages\\oanda_candles\\candle_requester.py\u001b[0m in \u001b[0;36mrequest\u001b[1;34m(self, start, end, count, include_first)\u001b[0m\n\u001b[0;32m     87\u001b[0m             \u001b[1;32mraise\u001b[0m \u001b[0mValueError\u001b[0m\u001b[1;33m(\u001b[0m\u001b[1;34mf\"Specified start, end, as well as count.\"\u001b[0m\u001b[1;33m)\u001b[0m\u001b[1;33m\u001b[0m\u001b[1;33m\u001b[0m\u001b[0m\n\u001b[0;32m     88\u001b[0m         \u001b[0mrequest\u001b[0m \u001b[1;33m=\u001b[0m \u001b[0mInstrumentsCandles\u001b[0m\u001b[1;33m(\u001b[0m\u001b[0minstrument\u001b[0m\u001b[1;33m=\u001b[0m\u001b[0mself\u001b[0m\u001b[1;33m.\u001b[0m\u001b[0minstrument\u001b[0m\u001b[1;33m,\u001b[0m \u001b[0mparams\u001b[0m\u001b[1;33m=\u001b[0m\u001b[0mparams\u001b[0m\u001b[1;33m)\u001b[0m\u001b[1;33m\u001b[0m\u001b[1;33m\u001b[0m\u001b[0m\n\u001b[1;32m---> 89\u001b[1;33m         \u001b[0mresponse\u001b[0m \u001b[1;33m=\u001b[0m \u001b[0mself\u001b[0m\u001b[1;33m.\u001b[0m\u001b[0mapi\u001b[0m\u001b[1;33m.\u001b[0m\u001b[0mrequest\u001b[0m\u001b[1;33m(\u001b[0m\u001b[0mrequest\u001b[0m\u001b[1;33m)\u001b[0m\u001b[1;33m\u001b[0m\u001b[1;33m\u001b[0m\u001b[0m\n\u001b[0m\u001b[0;32m     90\u001b[0m         \u001b[1;32mreturn\u001b[0m \u001b[0mCandleSequence\u001b[0m\u001b[1;33m.\u001b[0m\u001b[0mfrom_oanda\u001b[0m\u001b[1;33m(\u001b[0m\u001b[0mresponse\u001b[0m\u001b[1;33m)\u001b[0m\u001b[1;33m\u001b[0m\u001b[1;33m\u001b[0m\u001b[0m\n",
      "\u001b[1;32mD:\\ProgramFiles\\Anaconda3\\lib\\site-packages\\oandapyV20\\oandapyV20.py\u001b[0m in \u001b[0;36mrequest\u001b[1;34m(self, endpoint)\u001b[0m\n\u001b[0;32m    304\u001b[0m \u001b[1;33m\u001b[0m\u001b[0m\n\u001b[0;32m    305\u001b[0m             response = self.__request(method, url,\n\u001b[1;32m--> 306\u001b[1;33m                                       request_args, headers=headers)\n\u001b[0m\u001b[0;32m    307\u001b[0m             \u001b[0mcontent\u001b[0m \u001b[1;33m=\u001b[0m \u001b[0mresponse\u001b[0m\u001b[1;33m.\u001b[0m\u001b[0mcontent\u001b[0m\u001b[1;33m.\u001b[0m\u001b[0mdecode\u001b[0m\u001b[1;33m(\u001b[0m\u001b[1;34m'utf-8'\u001b[0m\u001b[1;33m)\u001b[0m\u001b[1;33m\u001b[0m\u001b[1;33m\u001b[0m\u001b[0m\n\u001b[0;32m    308\u001b[0m             \u001b[0mcontent\u001b[0m \u001b[1;33m=\u001b[0m \u001b[0mjson\u001b[0m\u001b[1;33m.\u001b[0m\u001b[0mloads\u001b[0m\u001b[1;33m(\u001b[0m\u001b[0mcontent\u001b[0m\u001b[1;33m)\u001b[0m\u001b[1;33m\u001b[0m\u001b[1;33m\u001b[0m\u001b[0m\n",
      "\u001b[1;32mD:\\ProgramFiles\\Anaconda3\\lib\\site-packages\\oandapyV20\\oandapyV20.py\u001b[0m in \u001b[0;36m__request\u001b[1;34m(self, method, url, request_args, headers, stream)\u001b[0m\n\u001b[0;32m    241\u001b[0m                          response.content.decode('utf-8'))\n\u001b[0;32m    242\u001b[0m             raise V20Error(response.status_code,\n\u001b[1;32m--> 243\u001b[1;33m                            response.content.decode('utf-8'))\n\u001b[0m\u001b[0;32m    244\u001b[0m         \u001b[1;32mreturn\u001b[0m \u001b[0mresponse\u001b[0m\u001b[1;33m\u001b[0m\u001b[1;33m\u001b[0m\u001b[0m\n\u001b[0;32m    245\u001b[0m \u001b[1;33m\u001b[0m\u001b[0m\n",
      "\u001b[1;31mV20Error\u001b[0m: {\"errorMessage\":\"Insufficient authorization to perform request.\"}"
     ]
    }
   ],
   "source": [
    "#some_job()\n",
    "\n",
    "###################################################################\n",
    "## Interval time job ##############################################\n",
    "scheduler = BlockingScheduler(job_defaults={'misfire_grace_time': 15*60})\n",
    "scheduler.add_job(some_job, 'cron', day_of_week='mon-fri', hour='*/4', minute=5, jitter=120, timezone='America/New_York')\n",
    "#scheduler.add_job(some_job, 'interval', hours=4)\n",
    "scheduler.start()"
   ]
  },
  {
   "cell_type": "code",
   "execution_count": null,
   "metadata": {},
   "outputs": [],
   "source": []
  }
 ],
 "metadata": {
  "kernelspec": {
   "display_name": "Python 3",
   "language": "python",
   "name": "python3"
  },
  "language_info": {
   "codemirror_mode": {
    "name": "ipython",
    "version": 3
   },
   "file_extension": ".py",
   "mimetype": "text/x-python",
   "name": "python",
   "nbconvert_exporter": "python",
   "pygments_lexer": "ipython3",
   "version": "3.7.3"
  }
 },
 "nbformat": 4,
 "nbformat_minor": 2
}
